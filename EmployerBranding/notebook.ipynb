{
 "cells": [
  {
   "cell_type": "markdown",
   "metadata": {},
   "source": [
    "## 🔥 Let's get the required packages and fire up a kernel"
   ]
  },
  {
   "cell_type": "code",
   "execution_count": 1,
   "metadata": {
    "dotnet_interactive": {
     "language": "csharp"
    },
    "polyglot_notebook": {
     "kernelName": "csharp"
    },
    "vscode": {
     "languageId": "polyglot-notebook"
    }
   },
   "outputs": [
    {
     "data": {
      "text/html": [
       "<div><div></div><div></div><div><strong>Installed Packages</strong><ul><li><span>Microsoft.KernelMemory.Core, 0.28.240212.1</span></li><li><span>Microsoft.KernelMemory.SemanticKernelPlugin, 0.28.240212.1</span></li><li><span>Microsoft.SemanticKernel, 1.3.1</span></li><li><span>Microsoft.SemanticKernel.Planners.Handlebars, 1.3.1-preview</span></li></ul></div></div>"
      ]
     },
     "metadata": {},
     "output_type": "display_data"
    }
   ],
   "source": [
    "#!import ../config/Settings.cs\n",
    "\n",
    "#r \"nuget: Microsoft.SemanticKernel, 1.3.1\"\n",
    "#r \"nuget: Microsoft.SemanticKernel.Planners.Handlebars, 1.3.1-preview\"\n",
    "#r \"nuget: Microsoft.KernelMemory.SemanticKernelPlugin, 0.28.240212.1\"\n",
    "#r \"nuget: Microsoft.KernelMemory.Core, 0.28.240212.1\"\n",
    "\n",
    "using Microsoft.SemanticKernel;\n",
    "using Microsoft.SemanticKernel.ChatCompletion;\n",
    "using Kernel = Microsoft.SemanticKernel.Kernel;\n",
    "using Microsoft.KernelMemory;\n",
    "\n",
    "var pluginsDirectory = Path.Combine(Directory.GetCurrentDirectory(), \"plugins\");\n",
    "var (useAzureOpenAI, model, azureEndpoint, apiKey, orgId) = Settings.LoadFromFile();"
   ]
  },
  {
   "cell_type": "code",
   "execution_count": 2,
   "metadata": {
    "dotnet_interactive": {
     "language": "csharp"
    },
    "polyglot_notebook": {
     "kernelName": "csharp"
    },
    "vscode": {
     "languageId": "polyglot-notebook"
    }
   },
   "outputs": [],
   "source": [
    "var builder = Kernel.CreateBuilder();\n",
    "if(useAzureOpenAI)\n",
    "    builder.AddAzureOpenAIChatCompletion(model, azureEndpoint, apiKey);\n",
    "else\n",
    "    builder.AddOpenAIChatCompletion(model, apiKey);\n",
    "\n",
    "builder.Plugins.AddFromPromptDirectory(Path.Combine(pluginsDirectory, \"EmployerBranding\"), \"EmployerBranding\");\n",
    "\n",
    "var kernel = builder.Build();"
   ]
  },
  {
   "cell_type": "markdown",
   "metadata": {},
   "source": [
    "## 📗 Define some variables"
   ]
  },
  {
   "cell_type": "code",
   "execution_count": 3,
   "metadata": {
    "dotnet_interactive": {
     "language": "csharp"
    },
    "polyglot_notebook": {
     "kernelName": "csharp"
    },
    "vscode": {
     "languageId": "polyglot-notebook"
    }
   },
   "outputs": [],
   "source": [
    "var summary = @\"👨‍💻 I am a Cloud Engineer, Technologist, and Futurist with over 20 years of experience. As a Solution Architect and Team Leader, I have helped businesses and teams grow using the latest technologies.\n",
    "\n",
    "💻 I am an evangelist of Cloud, DevOps, and Agile in team management, as well as in SDLC. I believe that Agile, DevOps, and Software Development Life-cycle are highly connected to each other.\n",
    "\n",
    "📰 I publish almost every day about the latest technology trends and can help companies with the implementation of solution architectures that suit their needs, as well as with the understanding of technologies like web3 or AI.\n",
    "\n",
    "🔍 If you want to learn more and stay up-to-date with technology, subscribe to my weekly newsletter and click 'follow' on my profile.\";\n",
    "var experience = @\"Solutions Architect Team Lead/Cloud & DevOps Competence Leader\n",
    "Solutions Architect Team Lead/Cloud & DevOps Competence Leader\n",
    "ITMAGINATION · Self-employedITMAGINATION · Self-employed\n",
    "Nov 2020 - Present · 3 yrs 4 mosNov 2020 - Present · 3 yrs 4 mos\n",
    "Warsaw Metropolitan Area · RemoteWarsaw Metropolitan Area · Remote\n",
    "\n",
    "Lead and manage the Cloud & DevOps area, providing strategic direction and overseeing all aspects of cloud computing and DevOps practices. Design solution architecture for a cloud-native applications including GenAI solutions.\n",
    "\n",
    "Mentor and coach team members, helping them to develop their skills and knowledge in cloud computing, DevOps, artificial intelligence (AI), and machine learning (ML).\n",
    "\n",
    "Set goals and objectives for the team, and track progress towards achieving them, including goals related to AI and ML implementation and cybersecurity.\n",
    "\n",
    "Design and build cloud architectures for Proof Of Concepts and MVP type of projects, ensuring that they are scalable, secure, cost-effective, and meet the specific needs of each project, including AI and ML needs.\n",
    "\n",
    "Implement and manage cloud solutions, ensuring they are secure and compliant with all applicable regulations.\n",
    "Lead and manage the Cloud & DevOps area, providing strategic direction and overseeing all aspects of cloud computing and DevOps practices. Design solution architecture for a cloud-native applications including GenAI solutions. Mentor and coach team members, helping them to develop their skills and knowledge in cloud computing, DevOps, artificial intelligence (AI), and machine learning (ML). Set goals and objectives for the team, and track progress towards achieving them, including goals related to AI and ML implementation and cybersecurity. Design and build cloud architectures for Proof Of Concepts and MVP type of projects, ensuring that they are scalable, secure, cost-effective, and meet the specific needs of each project, including AI and ML needs. Implement and manage cloud solutions, ensuring they are secure and compliant with all applicable regulations.\n",
    "Skills: Artificial Intelligence (AI) · Microsoft Azure · Machine Learning · Semantic Kernel · Microsoft Cognitive Services · Large Language Models (LLM) · Microsoft Azure Machine Learning · LangChain · Amazon Web Services (AWS) · Vectore databases · Azure DevOps Services\";"
   ]
  },
  {
   "cell_type": "markdown",
   "metadata": {},
   "source": [
    "## 🚀 Execute plugin"
   ]
  },
  {
   "cell_type": "code",
   "execution_count": 6,
   "metadata": {
    "dotnet_interactive": {
     "language": "csharp"
    },
    "polyglot_notebook": {
     "kernelName": "csharp"
    },
    "vscode": {
     "languageId": "polyglot-notebook"
    }
   },
   "outputs": [
    {
     "data": {
      "text/plain": [
       "**Version 1**\n",
       "\n",
       "*Introduction*\n",
       "Meet our trailblazing Cloud Engineer, Technologist, and Futurist: a visionary who has built a future-proof career out of transforming businesses through cutting-edge solutions for over 20 years. As a Solution Architect and Team Leader, his mission is not only to embrace innovation but to infuse it into our community-focused initiatives.\n",
       "\n",
       "*Professional Background*\n",
       "With an impressive tenure leading the Cloud & DevOps area at ITMAGINATION, he has consistently provided progressive direction centered around cloud computing and DevOps practices in the bustling metropolitan area of Warsaw and beyond. He has been the backbone in designing the architecture for cloud-native applications, including notable GenAI solutions. Further expanding his impact, he has adopted a mentorship role with team members, focusing on nurturing abilities in cloud computing, artificial intelligence (AI), and machine learning (ML). \n",
       "\n",
       "*Key Achievements*\n",
       "At the heart of his accomplishments is the implementation of safeguarded, compliant cloud solutions. The development of scalable, secure, and cost-efficient cloud architectures for Proof Of Concepts and MVP type projects are just a few testaments to his expertise, thoroughly satisfying the distinct project requisitions, including AI and ML needs. His hands-on leadership in actualizing goals related to AI and ML implementation and cybersecurity is a testament to his commitment to our brand.\n",
       "\n",
       "*Future Goals and Contributions*\n",
       "As a daily publisher on the latest technology trends, he continues to propel our brand into the future. He aims to broaden our understanding of progressive technologies like web3 or AI, crafting solution architectures tailored to our evolving needs. His goal is to keep sharing his knowledge and advancements, advocating our core values of innovation, community, and sustainability. \n",
       "\n",
       "**Version 2**\n",
       "\n",
       "*Introduction*\n",
       "Immerse yourself in the world of our trailblazing Cloud Engineer and Technologist, a gifted futurist with over two decades' experience in advancing businesses via cutting-edge solutions. As our esteemed Solution Architect and Team Leader, he has harnessed innovation to foster growth in our community-centric programs.\n",
       "\n",
       "*Professional Background*\n",
       "While leading the Cloud & DevOps area at ITMAGINATION, he has shown an unwavering commitment towards championing cloud computing and DevOps practices. This has culminated in the design and implementation of solution architectures for cloud-native applications, including revolutionary GenAI solutions. His nurturing approach to leading professionals in the fields of cloud computing, artificial intelligence (AI), and machine learning (ML) has left an indelible mark on the corporate culture.\n",
       "\n",
       "*Key Achievements*\n",
       "His noteworthy achievements spotlight his expertise in deploying secure and compliant cloud solutions. From creating robust, safe, and cost-effective cloud infrastructures for Proof Of Concepts to MVP-style projects, he has proven his versatility in handling distinct AI and ML-linked project necessities. His emphasis on achieving actionable goals concerning AI, ML implementation, and cybersecurity showcases our commitment to our brand's values.\n",
       "\n",
       "*Future Goals and Contributions*\n",
       "Not content to rest on his laurels, he actively publishes reports about trending technology advancements. He aims to steer our brand toward a sustainable and innovative future, bolstered by a knowledge-rich community. Through the introduction of web3 or AI-focused solution architectures designed to meet our brand's evolving needs, he embodies our commitment to deliver superior technology insights to our followers."
      ]
     },
     "metadata": {},
     "output_type": "display_data"
    }
   ],
   "source": [
    "var arguments = new KernelArguments();\n",
    "arguments.Add(\"input\", string.Join(\"\\n\", summary, experience));\n",
    "var result = await kernel.InvokeAsync(\"EmployerBranding\", \"ProfileImprovement\", arguments);\n",
    "\n",
    "result.GetValue<string>()"
   ]
  }
 ],
 "metadata": {
  "language_info": {
   "name": "csharp"
  }
 },
 "nbformat": 4,
 "nbformat_minor": 2
}
