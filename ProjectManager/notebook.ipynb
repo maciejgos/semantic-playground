{
 "cells": [
  {
   "cell_type": "markdown",
   "metadata": {},
   "source": [
    "# Goal is to help Project Manager to create outstanding presentation 🚀\n",
    "This notebook shows how to use HandleBar Planners with some Plugins to orchestrate process of PowerPoint creation\n"
   ]
  },
  {
   "cell_type": "markdown",
   "metadata": {},
   "source": [
    "## 🔥 Let's get the required packages and fire up a kernel"
   ]
  },
  {
   "cell_type": "code",
   "execution_count": null,
   "metadata": {
    "dotnet_interactive": {
     "language": "csharp"
    },
    "polyglot_notebook": {
     "kernelName": "csharp"
    },
    "vscode": {
     "languageId": "polyglot-notebook"
    }
   },
   "outputs": [],
   "source": [
    "#!import ../config/Settings.cs\n",
    "\n",
    "#r \"nuget: Microsoft.SemanticKernel, 1.3.1\"\n",
    "#r \"nuget: Microsoft.SemanticKernel.Planners.Handlebars, 1.3.1-preview\"\n",
    "#r \"nuget: Microsoft.KernelMemory.SemanticKernelPlugin, 0.28.240212.1\"\n",
    "#r \"nuget: Microsoft.KernelMemory.Core, 0.28.240212.1\"\n",
    "\n",
    "using Microsoft.SemanticKernel;\n",
    "using Microsoft.SemanticKernel.ChatCompletion;\n",
    "using Kernel = Microsoft.SemanticKernel.Kernel;\n",
    "using Microsoft.KernelMemory;\n",
    "\n",
    "var pluginsDirectory = Path.Combine(Directory.GetCurrentDirectory(), \"plugins\");\n",
    "var (useAzureOpenAI, model, azureEndpoint, apiKey, orgId) = Settings.LoadFromFile();"
   ]
  },
  {
   "cell_type": "markdown",
   "metadata": {},
   "source": [
    "Create instance of Memory"
   ]
  },
  {
   "cell_type": "code",
   "execution_count": null,
   "metadata": {
    "dotnet_interactive": {
     "language": "csharp"
    },
    "polyglot_notebook": {
     "kernelName": "csharp"
    },
    "vscode": {
     "languageId": "polyglot-notebook"
    }
   },
   "outputs": [],
   "source": [
    "var embeddingConfig = new AzureOpenAIConfig\n",
    "{\n",
    "    Endpoint = azureEndpoint,\n",
    "    APIKey = apiKey,\n",
    "    APIType = AzureOpenAIConfig.APITypes.EmbeddingGeneration,\n",
    "    Auth = AzureOpenAIConfig.AuthTypes.APIKey,\n",
    "    Deployment = \"text-embedding-ada-002\"\n",
    "};\n",
    "\n",
    "var textConfig = new AzureOpenAIConfig\n",
    "{\n",
    "    Endpoint = azureEndpoint,\n",
    "    APIKey = apiKey,\n",
    "    APIType = AzureOpenAIConfig.APITypes.EmbeddingGeneration,\n",
    "    Auth = AzureOpenAIConfig.AuthTypes.APIKey,\n",
    "    Deployment = \"gpt-4\"\n",
    "};\n",
    "\n",
    "var memory = new Microsoft.KernelMemory.KernelMemoryBuilder()\n",
    "    .WithAzureOpenAITextEmbeddingGeneration(embeddingConfig)\n",
    "    .WithAzureOpenAITextGeneration(textConfig)\n",
    "    .WithSimpleVectorDb()\n",
    "    .Build<MemoryServerless>();"
   ]
  },
  {
   "cell_type": "markdown",
   "metadata": {},
   "source": [
    "Create instance of Kernel"
   ]
  },
  {
   "cell_type": "code",
   "execution_count": null,
   "metadata": {
    "dotnet_interactive": {
     "language": "csharp"
    },
    "polyglot_notebook": {
     "kernelName": "csharp"
    },
    "vscode": {
     "languageId": "polyglot-notebook"
    }
   },
   "outputs": [],
   "source": [
    "var builder = Kernel.CreateBuilder();\n",
    "if(useAzureOpenAI)\n",
    "    builder.AddAzureOpenAIChatCompletion(model, azureEndpoint, apiKey);\n",
    "else\n",
    "    builder.AddOpenAIChatCompletion(model, apiKey);\n",
    "\n",
    "builder.Plugins.AddFromObject(new MemoryPlugin(memory, waitForIngestionToComplete: true), \"Memory\");\n",
    "builder.Plugins.AddFromPromptDirectory(Path.Combine(pluginsDirectory, \"ExecutiveSummary\"), \"ExecutiveSummary\");\n",
    "\n",
    "var kernel = builder.Build();"
   ]
  },
  {
   "cell_type": "markdown",
   "metadata": {},
   "source": [
    "## 👨‍💻 Let's load a AI Manager\n",
    "Here I setup System Description and assist system to behave as a manager in IT company"
   ]
  },
  {
   "cell_type": "code",
   "execution_count": null,
   "metadata": {
    "dotnet_interactive": {
     "language": "csharp"
    },
    "polyglot_notebook": {
     "kernelName": "csharp"
    },
    "vscode": {
     "languageId": "polyglot-notebook"
    }
   },
   "outputs": [],
   "source": [
    "var systemDescription = @\"You are a Project Manager in IT company. You are responsible for the development of a new software product. \n",
    "                          You have a team of 5 developers, 2 testers and cloud solution architect. \";\n",
    "\n",
    "IChatCompletionService chatCompletion = kernel.Services.GetService(typeof(IChatCompletionService)) as IChatCompletionService;\n",
    "var promptTemplate = new ChatHistory(systemDescription);"
   ]
  },
  {
   "cell_type": "code",
   "execution_count": 89,
   "metadata": {
    "dotnet_interactive": {
     "language": "csharp"
    },
    "polyglot_notebook": {
     "kernelName": "csharp"
    },
    "vscode": {
     "languageId": "polyglot-notebook"
    }
   },
   "outputs": [
    {
     "data": {
      "text/plain": [
       "Hello! How can I assist you with your IT project today?"
      ]
     },
     "metadata": {},
     "output_type": "display_data"
    }
   ],
   "source": [
    "promptTemplate.AddUserMessage(\"Hello\");\n",
    "var result = await chatCompletion.GetChatMessageContentAsync(promptTemplate);\n",
    "\n",
    "promptTemplate.AddAssistantMessage(result.Content);\n",
    "\n",
    "result.Content"
   ]
  },
  {
   "cell_type": "markdown",
   "metadata": {},
   "source": [
    "## 📗 Define some variables"
   ]
  },
  {
   "cell_type": "code",
   "execution_count": 90,
   "metadata": {
    "dotnet_interactive": {
     "language": "csharp"
    },
    "polyglot_notebook": {
     "kernelName": "csharp"
    },
    "vscode": {
     "languageId": "polyglot-notebook"
    }
   },
   "outputs": [],
   "source": [
    "var project = \"ProcureXpert: Streamlining RFQ Management\";\n",
    "var scope = @\"1. Introduction:\n",
    "The Web-based Request for Quotation (RFQ) Application aims to streamline the procurement process by providing a centralized platform for requesting and managing quotations from vendors. This application will facilitate efficient communication between buyers and suppliers, ensuring transparency, accuracy, and timeliness in the procurement process.\n",
    "\n",
    "2. Objectives\n",
    "\n",
    "Develop a user-friendly web application for creating, submitting, and managing RFQs.\n",
    "Enable buyers to easily invite multiple suppliers to submit quotations for specified goods or services.\n",
    "Provide suppliers with a platform to view, respond to, and track RFQs.\n",
    "Implement features for automatic notifications, reminders, and status updates to keep all parties informed throughout the RFQ process.\n",
    "Ensure security and data confidentiality in handling sensitive procurement information.\n",
    "3. Features and Functionalities:\n",
    "\n",
    "User Authentication: Secure login and registration for buyers and suppliers.\n",
    "RFQ Creation: Ability for buyers to create RFQs, specifying details such as product/service requirements, quantities, delivery deadlines, and any other relevant terms.\n",
    "Supplier Invitation: Buyers can invite specific suppliers or broadcast RFQs to a predefined list of approved vendors.\n",
    "Quotation Submission: Suppliers can view RFQs, prepare quotations, and submit them through the platform.\n",
    "Communication Tools: Built-in messaging system for buyers and suppliers to communicate regarding RFQ clarifications, negotiations, or other inquiries.\n",
    "Document Management: Support for attaching relevant documents, specifications, or additional files to RFQs and quotations.\n",
    "Tracking and Status Updates: Real-time tracking of RFQs and quotations, with notifications and alerts for key milestones such as submission deadlines, quote revisions, and award decisions.\n",
    "Reporting and Analytics: Generate reports and analytics on RFQ activity, supplier performance, response times, and other relevant metrics to facilitate decision-making and process improvements.\n",
    "Admin Dashboard: Administrative interface for managing users, permissions, system settings, and overseeing overall application functionality.\n",
    "Security Measures: Implementation of industry-standard security protocols to protect sensitive data, prevent unauthorized access, and ensure compliance with relevant data protection regulations.\";\n",
    "var examples = @\"1. Project Executive Summary:\n",
    "The project 'Enhancing Customer Experience through Digital Transformation' aims to revolutionize our company's customer engagement strategy by leveraging digital technologies. Through the implementation of AI-powered chatbots, personalized recommendation engines, and seamless omnichannel integration, we seek to deliver a superior and more tailored experience to our customers. This executive summary provides an overview of the project objectives, key strategies, anticipated benefits, and projected timeline for implementation.\n",
    "2. Business Plan Executive Summary:\n",
    "The business plan for 'GreenTech Solutions Inc.' outlines our vision to become a leading provider of sustainable technology solutions in the renewable energy sector. By offering innovative solar energy systems, energy-efficient appliances, and eco-friendly smart home solutions, we aim to address the growing demand for environmentally conscious products. This executive summary highlights our market opportunity, competitive advantages, revenue projections, and strategic growth initiatives.\n",
    "\n",
    "3. Research Report Executive Summary:\n",
    "The research report 'Trends and Insights in E-commerce: Navigating the Digital Landscape' provides a comprehensive analysis of current trends, consumer behavior, and emerging technologies shaping the e-commerce industry. Key findings include the rise of mobile commerce, the growing influence of social media in purchase decisions, and the increasing demand for personalized shopping experiences. This executive summary presents a concise overview of the research methodology, major findings, and implications for businesses in the e-commerce sector.\n",
    "\n",
    "4. Proposal Executive Summary:\n",
    "The proposal for 'Community Health Outreach Program' outlines a collaborative initiative to address health disparities and improve access to healthcare services in underserved communities. Through partnerships with local clinics, community organizations, and public health agencies, we propose to offer free health screenings, educational workshops, and preventive care interventions. This executive summary highlights the program's objectives, target population, proposed activities, and anticipated outcomes.\n",
    "\n",
    "5. Strategic Plan Executive Summary:\n",
    "The strategic plan for 'Global Expansion Strategy: Capturing New Markets and Driving Growth' outlines our organization's roadmap for expanding into international markets and diversifying our revenue streams. Key initiatives include market research and analysis, market entry strategies, partnership development, and localization efforts. This executive summary provides an overview of the strategic objectives, key performance indicators, resource allocation, and risk mitigation strategies involved in the global expansion initiative.\";"
   ]
  },
  {
   "cell_type": "markdown",
   "metadata": {},
   "source": [
    "## 🦹🏻‍♂️ Load something to memories\n",
    "I create 5 sample projects with executive summaries using ChatGPT and load created content into memories for consumption."
   ]
  },
  {
   "cell_type": "markdown",
   "metadata": {},
   "source": [
    "### Load some sample projects\n",
    "\n",
    "1. Project Name: SmartCity Infrastructure Development Initiative\n",
    "\n",
    "Executive Summary:\n",
    "The SmartCity Infrastructure Development Initiative aims to transform our city into a technologically advanced and sustainable urban center. Through the implementation of smart transportation systems, energy-efficient buildings, and IoT-enabled public services, we seek to enhance the quality of life for residents while reducing environmental impact. This executive summary provides an overview of the project's objectives, key strategies, anticipated benefits, and projected timeline for implementation.\n",
    "\n",
    "2. Project Name: HealthTech Innovation Accelerator\n",
    "\n",
    "Executive Summary:\n",
    "The HealthTech Innovation Accelerator project is a collaborative effort to foster innovation and entrepreneurship in the healthcare sector. By providing funding, mentorship, and access to resources, we aim to support startups and researchers in developing breakthrough technologies and solutions to address pressing healthcare challenges. This executive summary outlines the project's goals, target participants, program components, and expected outcomes.\n",
    "\n",
    "3. Project Name: Sustainable Agriculture Development Program\n",
    "\n",
    "Executive Summary:\n",
    "The Sustainable Agriculture Development Program seeks to promote environmentally friendly and socially responsible farming practices in rural communities. Through training workshops, financial incentives, and community partnerships, we aim to empower farmers to adopt sustainable techniques that improve productivity, protect natural resources, and enhance food security. This executive summary provides an overview of the program's objectives, implementation strategy, stakeholder engagement plan, and evaluation metrics.\n",
    "\n",
    "4. Project Name: Digital Literacy Outreach Initiative\n",
    "\n",
    "Executive Summary:\n",
    "The Digital Literacy Outreach Initiative aims to bridge the digital divide and empower underserved populations with essential digital skills and knowledge. Through workshops, training sessions, and community events, we seek to equip individuals with the tools and resources needed to thrive in an increasingly digital world. This executive summary outlines the project's objectives, target audience, outreach strategy, and anticipated impact on participants.\n",
    "\n",
    "5. Project Name: Renewable Energy Microgrid Deployment\n",
    "\n",
    "Executive Summary:\n",
    "The Renewable Energy Microgrid Deployment project aims to increase access to clean and reliable electricity in remote and off-grid communities. By deploying solar panels, wind turbines, and energy storage systems, we seek to establish decentralized microgrids that reduce dependence on fossil fuels and improve energy resilience. This executive summary provides an overview of the project scope, technical specifications, financing model, and expected benefits for participating communities."
   ]
  },
  {
   "cell_type": "code",
   "execution_count": 91,
   "metadata": {
    "dotnet_interactive": {
     "language": "csharp"
    },
    "polyglot_notebook": {
     "kernelName": "csharp"
    },
    "vscode": {
     "languageId": "polyglot-notebook"
    }
   },
   "outputs": [
    {
     "name": "stdout",
     "output_type": "stream",
     "text": [
      "Stored SmartCity Infrastructure Development Initiative with result SmartCity\n",
      "Stored HealthTech Innovation Accelerator with result HealthTech\n",
      "Stored Sustainable Agriculture Development Program with result Sustainable\n",
      "Stored Digital Literacy Outreach Initiative with result Digital\n",
      "Stored Renewable Energy Microgrid Deployment with result Renewable\n"
     ]
    }
   ],
   "source": [
    "class Project {\n",
    "    public string Id { get; set; }\n",
    "    public string Name { get; set; }\n",
    "    public string ExecutiveSummary { get; set; }\n",
    "}\n",
    "\n",
    "List<Project> projects = new List<Project>\n",
    "{\n",
    "    new Project { Id = \"SmartCity\", Name = \"SmartCity Infrastructure Development Initiative\", ExecutiveSummary = \"The SmartCity Infrastructure Development Initiative aims to transform our city into a technologically advanced and sustainable urban center. Through the implementation of smart transportation systems, energy-efficient buildings, and IoT-enabled public services, we seek to enhance the quality of life for residents while reducing environmental impact. This executive summary provides an overview of the project's objectives, key strategies, anticipated benefits, and projected timeline for implementation.\" },\n",
    "    new Project { Id = \"HealthTech\", Name = \"HealthTech Innovation Accelerator\", ExecutiveSummary = \"The HealthTech Innovation Accelerator project is a collaborative effort to foster innovation and entrepreneurship in the healthcare sector. By providing funding, mentorship, and access to resources, we aim to support startups and researchers in developing breakthrough technologies and solutions to address pressing healthcare challenges. This executive summary outlines the project's goals, target participants, program components, and expected outcomes.\" },\n",
    "    new Project { Id = \"Sustainable\", Name = \"Sustainable Agriculture Development Program\", ExecutiveSummary = \"The Sustainable Agriculture Development Program seeks to promote environmentally friendly and socially responsible farming practices in rural communities. Through training workshops, financial incentives, and community partnerships, we aim to empower farmers to adopt sustainable techniques that improve productivity, protect natural resources, and enhance food security. This executive summary provides an overview of the program's objectives, implementation strategy, stakeholder engagement plan, and evaluation metrics.\" },\n",
    "    new Project { Id = \"Digital\", Name = \"Digital Literacy Outreach Initiative\", ExecutiveSummary = \"The Digital Literacy Outreach Initiative aims to bridge the digital divide and empower underserved populations with essential digital skills and knowledge. Through workshops, training sessions, and community events, we seek to equip individuals with the tools and resources needed to thrive in an increasingly digital world. This executive summary outlines the project's objectives, target audience, outreach strategy, and anticipated impact on participants.\" },\n",
    "    new Project { Id = \"Renewable\", Name = \"Renewable Energy Microgrid Deployment\", ExecutiveSummary = \"The Renewable Energy Microgrid Deployment project aims to increase access to clean and reliable electricity in remote and off-grid communities. By deploying solar panels, wind turbines, and energy storage systems, we seek to establish decentralized microgrids that reduce dependence on fossil fuels and improve energy resilience. This executive summary provides an overview of the project scope, technical specifications, financing model, and expected benefits for participating communities.\" }\n",
    "};\n",
    "\n",
    "foreach(var project in projects)\n",
    "{\n",
    "    var result = await memory.ImportTextAsync(project.ExecutiveSummary, project.Id);\n",
    "    Console.WriteLine($\"Stored {project.Name} with result {result}\");\n",
    "}"
   ]
  },
  {
   "cell_type": "markdown",
   "metadata": {},
   "source": [
    "## 🧠Let's try to use Handlebar Planner\n",
    "I want to use HandleBar Planner to create a Executive Summary.\n",
    "First let's list avaiable plugins and functions"
   ]
  },
  {
   "cell_type": "code",
   "execution_count": 92,
   "metadata": {
    "dotnet_interactive": {
     "language": "csharp"
    },
    "polyglot_notebook": {
     "kernelName": "csharp"
    },
    "vscode": {
     "languageId": "polyglot-notebook"
    }
   },
   "outputs": [
    {
     "name": "stdout",
     "output_type": "stream",
     "text": [
      "Plugin: Memory\n",
      "  Function: Save\n",
      "  Function: SaveFile\n",
      "  Function: SaveWebPage\n",
      "  Function: Search\n",
      "  Function: Ask\n",
      "  Function: Delete\n",
      "Plugin: ExecutiveSummary\n",
      "  Function: Examples\n",
      "  Function: Scope\n",
      "  Function: Brainstorm\n"
     ]
    }
   ],
   "source": [
    "// List all available plugins and functions in kernel\n",
    "var plugins = kernel.Plugins;\n",
    "\n",
    "foreach (var plugin in plugins)\n",
    "{\n",
    "    Console.WriteLine($\"Plugin: {plugin.Name}\");\n",
    "    foreach (var function in plugin.GetFunctionsMetadata())\n",
    "    {\n",
    "        Console.WriteLine($\"  Function: {function.Name}\");\n",
    "    }\n",
    "}"
   ]
  },
  {
   "cell_type": "markdown",
   "metadata": {},
   "source": [
    "### Goal without provided scope"
   ]
  },
  {
   "cell_type": "code",
   "execution_count": 93,
   "metadata": {
    "dotnet_interactive": {
     "language": "csharp"
    },
    "polyglot_notebook": {
     "kernelName": "csharp"
    },
    "vscode": {
     "languageId": "polyglot-notebook"
    }
   },
   "outputs": [
    {
     "data": {
      "text/plain": [
       "{{!-- Step 1: Define the project --}}\n",
       "{{set \"project\" \"Name of the project\"}}\n",
       "\n",
       "{{!-- Step 2: Extract the project scope with ExecutiveSummary-Scope --}}\n",
       "{{set \"scope\" (ExecutiveSummary-Scope history=\"Provide conversation history here\")}}\n",
       "\n",
       "{{!-- Step 3: Find relevant examples with ExecutiveSummary-Examples --}}\n",
       "{{set \"examples\" (ExecutiveSummary-Examples input=scope)}}\n",
       "\n",
       "{{!-- Step 4: Brainstorming executive summary --}}\n",
       "{{set \"summary\" (ExecutiveSummary-Brainstorm project=project scope=scope examples=examples)}}\n",
       "\n",
       "{{!-- Step 5: Return the executive summary --}}\n",
       "{{json summary}}"
      ]
     },
     "metadata": {},
     "output_type": "display_data"
    }
   ],
   "source": [
    "var goal = @\"I want to create a executive summary for the project {project}.\";\n",
    "\n",
    "#pragma warning disable SKEXP0060\n",
    "var options = new Microsoft.SemanticKernel.Planning.Handlebars.HandlebarsPlannerOptions\n",
    "{\n",
    "  AllowLoops = true,\n",
    "};\n",
    "var planner = new Microsoft.SemanticKernel.Planning.Handlebars.HandlebarsPlanner(options);\n",
    "\n",
    "var plan = await planner.CreatePlanAsync(kernel, goal);\n",
    "#pragma warning restore SKEXP0060\n",
    "\n",
    "plan.ToString()"
   ]
  },
  {
   "cell_type": "code",
   "execution_count": 94,
   "metadata": {
    "dotnet_interactive": {
     "language": "csharp"
    },
    "polyglot_notebook": {
     "kernelName": "csharp"
    },
    "vscode": {
     "languageId": "polyglot-notebook"
    }
   },
   "outputs": [
    {
     "data": {
      "text/plain": [
       "Project Name: Advancement of HealthTech Innovations\n",
       "\n",
       "Project Scope: \n",
       "HealthTech Innovations is a multinational project meticulously designed to improve our community’s health outcomes by integrating cutting-edge technology with healthcare systems. Our project encapsulates various phases, starting from research and revamp of the current healthcare system to the final launching of innovative health solutions using breakthrough technologies like AI and Blockchain. \n",
       "\n",
       "Executive Summary:\n",
       "\n",
       "HealthTech Innovations: Breeding the future of healthcare\n",
       "\n",
       "In the challenging health landscape today, innovation has never been more urgent. Our project, HealthTech Innovations, represents a transformative initiative enthused with the passion to redefine healthcare access, enhance the quality of service and predictably, save lives through technology-led solutions. \n",
       "\n",
       "HealthTech Innovations aims to facilitate changes in the healthcare system, which have been established through a deep analysis and comparison of national and international healthcare models. Our primary objective is not just to integrate technology into the current healthcare system but to develop a fundamentally technology-driven healthcare system that is responsive, accessible, and effective.\n",
       "\n",
       "We distinguish ourselves with our commitment to cross-disciplinary collaboration. HealthTech partners with leading tech enterprises, research organizations, medical institutions and policy regulators to ensure an all-encompassing approach to healthcare transformation. This gives us the ability to understand and address current healthcare shortcomings, while employing the best of technology for a superior outcome.\n",
       "\n",
       "Our project is structured as an iterative process: Understand, Innovate and Implement. We will submerge ourselves in exhaustive research to completely apprehend the prevalent healthcare model and its bottlenecks. This is followed by ideation and innovation, equipped with breakthrough technologies including AI, Robotics and Blockchain. The implementation stage will include beta testing, feedback analysis, re-iteration, and finally deployment of these solutions.\n",
       "\n",
       "Stakeholders can expect significant benefits from our project - the foremost being a comprehensive overhaul of the existing healthcare system. The result is a healthcare ecosystem that is intuitive, agile, and technologically advanced, facilitating improved health outcomes, lower medical costs, increased accessibility, and robust patient engagement. \n",
       "\n",
       "As we embark on this ambitious journey to reshape healthcare for generations to come, we invite our stakeholders to engage, invest, and involve in an undertaking that holds the potential to revolutionize global health parameters. In HealthTech Innovations, every contribution is an investment in a healthier, more equitable future. \n",
       "\n",
       "In HealthTech Innovations, we envision a world where technology can make a healthier tomorrow, today."
      ]
     },
     "metadata": {},
     "output_type": "display_data"
    }
   ],
   "source": [
    "#pragma warning disable SKEXP0060\n",
    "var arguments = new KernelArguments();\n",
    "var result = await plan.InvokeAsync(kernel, arguments);\n",
    "#pragma warning restore SKEXP0060\n",
    "\n",
    "result\n"
   ]
  },
  {
   "cell_type": "markdown",
   "metadata": {},
   "source": [
    "### Goal with provided scope"
   ]
  },
  {
   "cell_type": "code",
   "execution_count": 95,
   "metadata": {
    "dotnet_interactive": {
     "language": "csharp"
    },
    "polyglot_notebook": {
     "kernelName": "csharp"
    },
    "vscode": {
     "languageId": "polyglot-notebook"
    }
   },
   "outputs": [
    {
     "data": {
      "text/plain": [
       "{{!-- Step 1: Extract project scope --}}\n",
       "{{set \"projectScope\" \"1. Introduction: The Web-based Request for Quotation (RFQ) Application aims to streamline the procurement process by providing a centralized platform for requesting and managing quotations from vendors. This application will facilitate efficient communication between buyers and suppliers, ensuring transparency, accuracy, and timeliness in the procurement process. 2. Objectives Develop a user-friendly web application for creating, submitting, and managing RFQs. Enable buyers to easily invite multiple suppliers to submit quotations for specified goods or services. Provide suppliers with a platform to view, respond to, and track RFQs. Implement features for automatic notifications, reminders, and status updates to keep all parties informed throughout the RFQ process. Ensure security and data confidentiality in handling sensitive procurement information. 3. Features and Functionalities: User Authentication: Secure login and registration for buyers and suppliers. RFQ Creation: Ability for buyers to create RFQs, specifying details such as product/service requirements, quantities, delivery deadlines, and any other relevant terms. Supplier Invitation: Buyers can invite specific suppliers or broadcast RFQs to a predefined list of approved vendors. Quotation Submission: Suppliers can view RFQs, prepare quotations, and submit them through the platform. Communication Tools: Built-in messaging system for buyers and suppliers to communicate regarding RFQ clarifications, negotiations, or other inquiries. Document Management: Support for attaching relevant documents, specifications, or additional files to RFQs and quotations. Tracking and Status Updates: Real-time tracking of RFQs and quotations, with notifications and alerts for key milestones such as submission deadlines, quote revisions, and award decisions. Reporting and Analytics: Generate reports and analytics on RFQ activity, supplier performance, response times, and other relevant metrics to facilitate decision-making and process improvements. Admin Dashboard: Administrative interface for managing users, permissions, system settings, and overseeing overall application functionality. Security Measures: Implementation of industry-standard security protocols to protect sensitive data, prevent unauthorized access, and ensure compliance with relevant data protection regulations.\"}}\n",
       "\n",
       "{{!-- Step 2: Use the name of project from the Goal --}}\n",
       "{{set \"projectName\" \"ProcureXpert: Streamlining RFQ Management\"}}\n",
       "\n",
       "{{!-- Step 3: Prepare a list of example executive summaries related to the scope --}}\n",
       "{{set \"examples\" (ExecutiveSummary-Examples projectScope)}}\n",
       "\n",
       "{{!-- Step 4: Brainstorm an executive summary, providing all necessary inputs --}}\n",
       "{{set \"finalSummary\" (ExecutiveSummary-Brainstorm projectName projectScope examples)}}\n",
       "\n",
       "{{!-- Step 5: Print the executive summary --}}\n",
       "{{json finalSummary}}"
      ]
     },
     "metadata": {},
     "output_type": "display_data"
    }
   ],
   "source": [
    "goal = $\"I want to create a executive summary for the project {project}. Below is the project scope: {scope}\";\n",
    "\n",
    "#pragma warning disable SKEXP0060\n",
    "var options = new Microsoft.SemanticKernel.Planning.Handlebars.HandlebarsPlannerOptions\n",
    "{\n",
    "  AllowLoops = true,\n",
    "};\n",
    "var planner = new Microsoft.SemanticKernel.Planning.Handlebars.HandlebarsPlanner(options);\n",
    "\n",
    "var plan = await planner.CreatePlanAsync(kernel, goal);\n",
    "#pragma warning restore SKEXP0060\n",
    "\n",
    "plan.ToString()"
   ]
  },
  {
   "cell_type": "code",
   "execution_count": 96,
   "metadata": {
    "dotnet_interactive": {
     "language": "csharp"
    },
    "polyglot_notebook": {
     "kernelName": "csharp"
    },
    "vscode": {
     "languageId": "polyglot-notebook"
    }
   },
   "outputs": [
    {
     "data": {
      "text/plain": [
       "Executive Summary\n",
       "\n",
       "Project: ProcureXpert - Streamlining RFQ Management\n",
       "\n",
       "In the digital era, leading-edge business automation is not just pivotal to success—it's essential. The ProcureXpert initiative, a web-based Request for Quotation (RFQ) application, was conceived to streamline and optimise vendor procurement processes. This revolutionary platform simplifies RFQ creation, submission, and management, catalysing an efficient and transparent interaction between buyers and suppliers.\n",
       "\n",
       "The objective of the ProcureXpert is to provide a user-friendly, secure application environment that eradicates the traditional pain-points associated with the procurement process. Thereby, fostering quick and easy RFQ creation, facilitating supplier invitations, tailored quotation reactions and proficient supplier-vendor communication strategies. The umbrella suite of automated notifications, status updates and reminders further enhances the organisational structure, keeping all stakeholders informed every step of the way.\n",
       "\n",
       "One of the standout features of ProcureXpert is its commitment to data confidentiality and security. Rigorous industry-standard security protocol implementation shields sensitive procurement information against unauthorised access and ensures compliance with data protection regulations. This underpins our commitment to maintaining the highest level of integrity and confidentiality in all our operations, which is critical in today's digital landscape.\n",
       "\n",
       "With an easy-to-navigate Admin Dashboard, management can oversee the application's functionality and user management. On the other hand, comprehensive reporting and analytics aid strategic decision-making, providing fresh, at-a-glance insights on supplier performance, RFQ activity, response timeframes and other imperative metrics. \n",
       "\n",
       "In conclusion, ProcureXpert is not merely an opportunity—it's a game-changer. Its introduction promises a significant shift in the procurement landscape, setting a new standard in efficient, transparent and streamlined vendor management. This will allow participating organizations to pivot much of their focus and resources away from procurement logistics and instead, apply it towards their core competencies; a proposition that undoubtedly showcases why ProcureXpert is an invaluable technological innovation."
      ]
     },
     "metadata": {},
     "output_type": "display_data"
    }
   ],
   "source": [
    "#pragma warning disable SKEXP0060\n",
    "var arguments = new KernelArguments();\n",
    "var result = await plan.InvokeAsync(kernel, arguments);\n",
    "#pragma warning restore SKEXP0060\n",
    "\n",
    "result"
   ]
  },
  {
   "cell_type": "markdown",
   "metadata": {},
   "source": [
    "### Goal should be extracted from history"
   ]
  },
  {
   "cell_type": "code",
   "execution_count": 103,
   "metadata": {
    "dotnet_interactive": {
     "language": "csharp"
    },
    "polyglot_notebook": {
     "kernelName": "csharp"
    },
    "vscode": {
     "languageId": "polyglot-notebook"
    }
   },
   "outputs": [
    {
     "data": {
      "text/plain": [
       "{{set \"project\" \"ProcureXpert: Streamlining RFQ Management\"}}\n",
       "{{set \"scope\" \"1. Introduction: The Web-based Request for Quotation (RFQ) Application aims to streamline the procurement process...Industry-standard security protocols to protect sensitive data, prevent unauthorized access, and ensure compliance with relevant data protection regulations.\"}}\n",
       "```\n",
       "2. Extract from user conversation the scope of the project with `ExecutiveSummary-Scope` helper.\n",
       "```handlebars\n",
       "{{set \"extractedScope\" (ExecutiveSummary-Scope history=scope)}}\n",
       "```\n",
       "3. Lookup in memory for relevant examples for the extracted scope with `ExecutiveSummary-Examples` helper.\n",
       "```handlebars\n",
       "{{set \"examples\" (ExecutiveSummary-Examples input=extractedScope)}}\n",
       "```\n",
       "4. Finally, use `ExecutiveSummary-Brainstorm` helper to generate the executive summary using the project title, the extracted scope and the retrieved examples.\n",
       "```handlebars\n",
       "{{set \"executiveSummary\" (ExecutiveSummary-Brainstorm project=project scope=extractedScope examples=examples)}}\n",
       "```\n",
       "5. Output the final result.\n",
       "```handlebars \n",
       "{{json executiveSummary}}\n",
       "```\n",
       "\n",
       "When you put it all together, your Handlebars template will look like this:\n",
       "```handlebars\n",
       "{{set \"project\" \"ProcureXpert: Streamlining RFQ Management\"}}\n",
       "{{set \"scope\" \"1. Introduction: The Web-based Request for Quotation (RFQ) Application aims to streamline the procurement process...Industry-standard security protocols to protect sensitive data, prevent unauthorized access, and ensure compliance with relevant data protection regulations.\"}}\n",
       "{{set \"extractedScope\" (ExecutiveSummary-Scope history=scope)}}\n",
       "{{set \"examples\" (ExecutiveSummary-Examples input=extractedScope)}}\n",
       "{{set \"executiveSummary\" (ExecutiveSummary-Brainstorm project=project scope=extractedScope examples=examples)}}\n",
       "{{json executiveSummary}}"
      ]
     },
     "metadata": {},
     "output_type": "display_data"
    }
   ],
   "source": [
    "promptTemplate.AddUserMessage($\"I want to create a executive summary for the project {project}. Below is the project scope: {scope}\");\n",
    "StringBuilder goal = new StringBuilder();\n",
    "goal.AppendLine(\"Chat History:\");\n",
    "foreach(var message in promptTemplate)\n",
    "    goal.AppendLine($\"{message.Role}: {message.Content}\");\n",
    "\n",
    "#pragma warning disable SKEXP0060\n",
    "var options = new Microsoft.SemanticKernel.Planning.Handlebars.HandlebarsPlannerOptions\n",
    "{\n",
    "  AllowLoops = true,\n",
    "};\n",
    "var planner = new Microsoft.SemanticKernel.Planning.Handlebars.HandlebarsPlanner(options);\n",
    "\n",
    "var plan = await planner.CreatePlanAsync(kernel, goal.ToString());\n",
    "#pragma warning restore SKEXP0060\n",
    "\n",
    "plan.ToString()"
   ]
  },
  {
   "cell_type": "code",
   "execution_count": 104,
   "metadata": {
    "dotnet_interactive": {
     "language": "csharp"
    },
    "polyglot_notebook": {
     "kernelName": "csharp"
    },
    "vscode": {
     "languageId": "polyglot-notebook"
    }
   },
   "outputs": [
    {
     "data": {
      "text/plain": [
       "```\n",
       "2. Extract from user conversation the scope of the project with `ExecutiveSummary-Scope` helper.\n",
       "```handlebars\n",
       "\n",
       "```\n",
       "3. Lookup in memory for relevant examples for the extracted scope with `ExecutiveSummary-Examples` helper.\n",
       "```handlebars\n",
       "\n",
       "```\n",
       "4. Finally, use `ExecutiveSummary-Brainstorm` helper to generate the executive summary using the project title, the extracted scope and the retrieved examples.\n",
       "```handlebars\n",
       "\n",
       "```\n",
       "5. Output the final result.\n",
       "```handlebars \n",
       "Executive Summary:\n",
       "\n",
       "Introducing ProcureXpert, designed to revolutionize Request for Quotation (RFQ) management. ProcureXpert is a web-based application that simplifies and automates procurement, seamlessly integrating with existing databases and systems to streamline your process. \n",
       "\n",
       "Project Scope: \n",
       "\n",
       "ProcureXpert's mandate consists of various focal points. The primary scope is the development of a user-friendly, web-based RFQ application designed to handle the creation, submission, and management of RFQs with ease. A core feature of the application is its capacity to track previous RFQs, enabling historical analysis and insights. The application also takes a step forward in digitizing the procurement process by automating various stages of quotations management.\n",
       "\n",
       "Furthermore, ProcureXpert is designed to foster a new level of connectivity between buyers and suppliers. The created system will provide buyers with an interface to invite multiple suppliers to submit their quotations, while suppliers will have a platform to view, respond to, and track RFQs.\n",
       "\n",
       "We have embedded useful features such as automatic notifications, reminders, and status updates, ensuring all parties remain informed throughout the RFQ process. However, as the app deals with sensitive procurement data, safeguarding this information is crucial. That's why the system will comply with industry-standard security protocols and relevant data privacy regulations to ensure absolute data confidentiality, preventing any unauthorized access.\n",
       "\n",
       "Project Significance:\n",
       "\n",
       "ProcureXpert is poised to shape the future of procurement, providing immense value to a spectrum of stakeholders. For businesses, the ability to automate and track RFQs will translate into operational efficiency: faster quotation times, reduced errors, and valuable insights into their procurement process. \n",
       "\n",
       "Suppliers will benefit from a simplified RFQ response process and enhanced visibility, thus promoting a business culture of transparency and fairness. Overall, ProcureXpert aims to digitize, automate, and secure RFQ management, reshaping how this vital business process is conducted, adding value to all stakeholders in the procurement chain.\n",
       "\n",
       "In conclusion, the development of ProcureXpert presents a compelling proposition to transform RFQ management. It brings together automation, security, transparency, and efficiency into one integrated system, making procurement a seamless and secure process. We welcome you to be part of this technological leap as we redefine procurement for the future.\n",
       "```\n",
       "\n",
       "When you put it all together, your Handlebars template will look like this:\n",
       "```handlebars\n",
       "\n",
       "\n",
       "\n",
       "\n",
       "\n",
       "Executive Summary:\n",
       "\n",
       "As we continue to evolve in an increasingly digital business landscape, navigating the complexities of procurement and efficiently managing customer and vendor relationships remains a vital operational aspect. To facilitate this, we have developed the 'ProcureXpert: Streamlining RFQ Management' project, a strategic business solution designed to optimize and digitalize the procurement processes.\n",
       "\n",
       "Aptly named, the 'ProcureXpert' is a web-based Request for Quotation (RFQ) application. Marrying innovation with utility, its primary objective is to simplify and streamline the daunting procurement process. The application promises to integrate and automate the entire request for quotation workflow, significantly slashing the time and resources required in traditional procurement.\n",
       "\n",
       "One of the defining features of ProcureXpert is its efficient management of customer and vendor information. Serving as a comprehensive, centralized hub, the application intends to seamlessly manage these relationships and facilitate easy access to necessary details.\n",
       "\n",
       "A paramount concern in today's data-driven era is security, especially in the sphere of sensitive financial transactions, proprietary data, and confidentiality agreements. Recognizing this, the ProcureXpert application is fortified with industry-standard security protocols. This function preserves the integrity of sensitive data and restricts unauthorized access, ensuring a controlled, secure environment. \n",
       "\n",
       "Additionally, we place a high emphasis on maintaining compliance with all relevant data protection regulations—a priority manifest in ProcureXpert's design. Our commitment to privacy and safety norms is undeniable, and we strive to adhere to regulatory statutes, making the application a trustworthy and reliable platform.\n",
       "\n",
       "In conclusion, our 'ProcureXpert: Streamlining RFQ Management' initiative aims to revolutionize procurement processes, spurring efficiency and bolstering security measures. We believe that the project's potential benefits—from time and resource optimization to enhanced data security—serve as an exciting opportunity for all stakeholders involved in the procurement process."
      ]
     },
     "metadata": {},
     "output_type": "display_data"
    }
   ],
   "source": [
    "#pragma warning disable SKEXP0060\n",
    "var arguments = new KernelArguments();\n",
    "var result = await plan.InvokeAsync(kernel, arguments);\n",
    "#pragma warning restore SKEXP0060\n",
    "\n",
    "result"
   ]
  }
 ],
 "metadata": {
  "language_info": {
   "name": "csharp"
  }
 },
 "nbformat": 4,
 "nbformat_minor": 2
}
