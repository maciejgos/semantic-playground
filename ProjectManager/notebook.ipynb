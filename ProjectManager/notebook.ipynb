{
 "cells": [
  {
   "cell_type": "markdown",
   "metadata": {},
   "source": [
    "# Goal is to help Project Manager to create outstanding presentation 🚀\n",
    "This notebook shows how to use HandleBar Planners with some Plugins to orchestrate process of PowerPoint creation\n"
   ]
  },
  {
   "cell_type": "markdown",
   "metadata": {},
   "source": [
    "## 🔥 Let's get the required packages and fire up a kernel"
   ]
  },
  {
   "cell_type": "code",
   "execution_count": 1,
   "metadata": {
    "dotnet_interactive": {
     "language": "csharp"
    },
    "polyglot_notebook": {
     "kernelName": "csharp"
    },
    "vscode": {
     "languageId": "polyglot-notebook"
    }
   },
   "outputs": [
    {
     "data": {
      "text/html": [
       "<div><div></div><div></div><div><strong>Installed Packages</strong><ul><li><span>Microsoft.KernelMemory.Core, 0.28.240212.1</span></li><li><span>Microsoft.KernelMemory.SemanticKernelPlugin, 0.28.240212.1</span></li><li><span>Microsoft.SemanticKernel, 1.3.1</span></li><li><span>Microsoft.SemanticKernel.Planners.Handlebars, 1.3.1-preview</span></li></ul></div></div>"
      ]
     },
     "metadata": {},
     "output_type": "display_data"
    }
   ],
   "source": [
    "#!import ../config/Settings.cs\n",
    "\n",
    "#r \"nuget: Microsoft.SemanticKernel, 1.3.1\"\n",
    "#r \"nuget: Microsoft.SemanticKernel.Planners.Handlebars, 1.3.1-preview\"\n",
    "#r \"nuget: Microsoft.KernelMemory.SemanticKernelPlugin, 0.28.240212.1\"\n",
    "#r \"nuget: Microsoft.KernelMemory.Core, 0.28.240212.1\"\n",
    "\n",
    "using Microsoft.SemanticKernel;\n",
    "using Microsoft.SemanticKernel.ChatCompletion;\n",
    "using Kernel = Microsoft.SemanticKernel.Kernel;\n",
    "using Microsoft.KernelMemory;\n",
    "\n",
    "var pluginsDirectory = Path.Combine(Directory.GetCurrentDirectory(), \"plugins\");\n",
    "var (useAzureOpenAI, model, azureEndpoint, apiKey, orgId) = Settings.LoadFromFile();"
   ]
  },
  {
   "cell_type": "markdown",
   "metadata": {},
   "source": [
    "Create instance of Memory"
   ]
  },
  {
   "cell_type": "code",
   "execution_count": 2,
   "metadata": {
    "dotnet_interactive": {
     "language": "csharp"
    },
    "polyglot_notebook": {
     "kernelName": "csharp"
    },
    "vscode": {
     "languageId": "polyglot-notebook"
    }
   },
   "outputs": [
    {
     "name": "stdout",
     "output_type": "stream",
     "text": [
      "info: Microsoft.KernelMemory.Handlers.TextExtractionHandler[0]\n",
      "      Handler 'extract' ready\n",
      "info: Microsoft.KernelMemory.Handlers.TextPartitioningHandler[0]\n",
      "      Handler 'partition' ready\n",
      "info: Microsoft.KernelMemory.Handlers.SummarizationHandler[0]\n",
      "      Handler 'summarize' ready\n",
      "info: Microsoft.KernelMemory.Handlers.GenerateEmbeddingsHandler[0]\n",
      "      Handler 'gen_embeddings' ready, 1 embedding generators\n",
      "info: Microsoft.KernelMemory.Handlers.SaveRecordsHandler[0]\n",
      "      Handler save_records ready, 1 vector storages\n",
      "info: Microsoft.KernelMemory.Handlers.DeleteDocumentHandler[0]\n",
      "      Handler 'private_delete_document' ready\n",
      "info: Microsoft.KernelMemory.Handlers.DeleteIndexHandler[0]\n",
      "      Handler 'private_delete_index' ready\n",
      "info: Microsoft.KernelMemory.Handlers.DeleteGeneratedFilesHandler[0]\n",
      "      Handler 'delete_generated_files' ready\n"
     ]
    }
   ],
   "source": [
    "var embeddingConfig = new AzureOpenAIConfig\n",
    "{\n",
    "    Endpoint = azureEndpoint,\n",
    "    APIKey = apiKey,\n",
    "    APIType = AzureOpenAIConfig.APITypes.EmbeddingGeneration,\n",
    "    Auth = AzureOpenAIConfig.AuthTypes.APIKey,\n",
    "    Deployment = \"text-embedding-ada-002\"\n",
    "};\n",
    "\n",
    "var textConfig = new AzureOpenAIConfig\n",
    "{\n",
    "    Endpoint = azureEndpoint,\n",
    "    APIKey = apiKey,\n",
    "    APIType = AzureOpenAIConfig.APITypes.EmbeddingGeneration,\n",
    "    Auth = AzureOpenAIConfig.AuthTypes.APIKey,\n",
    "    Deployment = \"gpt-4\"\n",
    "};\n",
    "\n",
    "var memory = new Microsoft.KernelMemory.KernelMemoryBuilder()\n",
    "    .WithAzureOpenAITextEmbeddingGeneration(embeddingConfig)\n",
    "    .WithAzureOpenAITextGeneration(textConfig)\n",
    "    .WithSimpleVectorDb()\n",
    "    .Build<MemoryServerless>();"
   ]
  },
  {
   "cell_type": "markdown",
   "metadata": {},
   "source": [
    "Create instance of Kernel"
   ]
  },
  {
   "cell_type": "code",
   "execution_count": 3,
   "metadata": {
    "dotnet_interactive": {
     "language": "csharp"
    },
    "polyglot_notebook": {
     "kernelName": "csharp"
    },
    "vscode": {
     "languageId": "polyglot-notebook"
    }
   },
   "outputs": [],
   "source": [
    "var builder = Kernel.CreateBuilder();\n",
    "if(useAzureOpenAI)\n",
    "    builder.AddAzureOpenAIChatCompletion(model, azureEndpoint, apiKey);\n",
    "else\n",
    "    builder.AddOpenAIChatCompletion(model, apiKey);\n",
    "\n",
    "builder.Plugins.AddFromObject(new MemoryPlugin(memory, waitForIngestionToComplete: true), \"Memory\");\n",
    "builder.Plugins.AddFromPromptDirectory(Path.Combine(pluginsDirectory, \"Manager\"), \"Manager\");\n",
    "\n",
    "var kernel = builder.Build();"
   ]
  },
  {
   "cell_type": "markdown",
   "metadata": {},
   "source": [
    "## 👨‍💻 Let's load a AI Manager\n",
    "Here I setup System Description and assist system to behave as a manager in IT company"
   ]
  },
  {
   "cell_type": "code",
   "execution_count": 4,
   "metadata": {
    "dotnet_interactive": {
     "language": "csharp"
    },
    "polyglot_notebook": {
     "kernelName": "csharp"
    },
    "vscode": {
     "languageId": "polyglot-notebook"
    }
   },
   "outputs": [],
   "source": [
    "var systemDescription = @\"You are a Project Manager in IT company. You are responsible for the development of a new software product. \n",
    "                          You have a team of 5 developers, 2 testers and cloud solution architect. \";\n",
    "\n",
    "IChatCompletionService chatCompletion = kernel.Services.GetService(typeof(IChatCompletionService)) as IChatCompletionService;\n",
    "var promptTemplate = new ChatHistory(systemDescription);"
   ]
  },
  {
   "cell_type": "code",
   "execution_count": 5,
   "metadata": {
    "dotnet_interactive": {
     "language": "csharp"
    },
    "polyglot_notebook": {
     "kernelName": "csharp"
    },
    "vscode": {
     "languageId": "polyglot-notebook"
    }
   },
   "outputs": [
    {
     "data": {
      "text/plain": [
       "Hello! How can I assist you in managing your project today?"
      ]
     },
     "metadata": {},
     "output_type": "display_data"
    }
   ],
   "source": [
    "promptTemplate.AddUserMessage(\"Hello\");\n",
    "var result = await chatCompletion.GetChatMessageContentAsync(promptTemplate);\n",
    "\n",
    "promptTemplate.AddAssistantMessage(result.Content);\n",
    "\n",
    "result.Content"
   ]
  },
  {
   "cell_type": "markdown",
   "metadata": {},
   "source": [
    "## 🔌 Try one of plugins\n",
    "I want to add some plugins to kernel to execute specific actions\n"
   ]
  },
  {
   "cell_type": "code",
   "execution_count": 6,
   "metadata": {
    "dotnet_interactive": {
     "language": "csharp"
    },
    "polyglot_notebook": {
     "kernelName": "csharp"
    },
    "vscode": {
     "languageId": "polyglot-notebook"
    }
   },
   "outputs": [],
   "source": [
    "var project = \"ProcureXpert: Streamlining RFQ Management\";\n",
    "var scope = @\"1. Introduction:\n",
    "The Web-based Request for Quotation (RFQ) Application aims to streamline the procurement process by providing a centralized platform for requesting and managing quotations from vendors. This application will facilitate efficient communication between buyers and suppliers, ensuring transparency, accuracy, and timeliness in the procurement process.\n",
    "\n",
    "2. Objectives\n",
    "\n",
    "Develop a user-friendly web application for creating, submitting, and managing RFQs.\n",
    "Enable buyers to easily invite multiple suppliers to submit quotations for specified goods or services.\n",
    "Provide suppliers with a platform to view, respond to, and track RFQs.\n",
    "Implement features for automatic notifications, reminders, and status updates to keep all parties informed throughout the RFQ process.\n",
    "Ensure security and data confidentiality in handling sensitive procurement information.\n",
    "3. Features and Functionalities:\n",
    "\n",
    "User Authentication: Secure login and registration for buyers and suppliers.\n",
    "RFQ Creation: Ability for buyers to create RFQs, specifying details such as product/service requirements, quantities, delivery deadlines, and any other relevant terms.\n",
    "Supplier Invitation: Buyers can invite specific suppliers or broadcast RFQs to a predefined list of approved vendors.\n",
    "Quotation Submission: Suppliers can view RFQs, prepare quotations, and submit them through the platform.\n",
    "Communication Tools: Built-in messaging system for buyers and suppliers to communicate regarding RFQ clarifications, negotiations, or other inquiries.\n",
    "Document Management: Support for attaching relevant documents, specifications, or additional files to RFQs and quotations.\n",
    "Tracking and Status Updates: Real-time tracking of RFQs and quotations, with notifications and alerts for key milestones such as submission deadlines, quote revisions, and award decisions.\n",
    "Reporting and Analytics: Generate reports and analytics on RFQ activity, supplier performance, response times, and other relevant metrics to facilitate decision-making and process improvements.\n",
    "Admin Dashboard: Administrative interface for managing users, permissions, system settings, and overseeing overall application functionality.\n",
    "Security Measures: Implementation of industry-standard security protocols to protect sensitive data, prevent unauthorized access, and ensure compliance with relevant data protection regulations.\";\n",
    "var examples = @\"1. Project Executive Summary:\n",
    "The project 'Enhancing Customer Experience through Digital Transformation' aims to revolutionize our company's customer engagement strategy by leveraging digital technologies. Through the implementation of AI-powered chatbots, personalized recommendation engines, and seamless omnichannel integration, we seek to deliver a superior and more tailored experience to our customers. This executive summary provides an overview of the project objectives, key strategies, anticipated benefits, and projected timeline for implementation.\n",
    "2. Business Plan Executive Summary:\n",
    "The business plan for 'GreenTech Solutions Inc.' outlines our vision to become a leading provider of sustainable technology solutions in the renewable energy sector. By offering innovative solar energy systems, energy-efficient appliances, and eco-friendly smart home solutions, we aim to address the growing demand for environmentally conscious products. This executive summary highlights our market opportunity, competitive advantages, revenue projections, and strategic growth initiatives.\n",
    "\n",
    "3. Research Report Executive Summary:\n",
    "The research report 'Trends and Insights in E-commerce: Navigating the Digital Landscape' provides a comprehensive analysis of current trends, consumer behavior, and emerging technologies shaping the e-commerce industry. Key findings include the rise of mobile commerce, the growing influence of social media in purchase decisions, and the increasing demand for personalized shopping experiences. This executive summary presents a concise overview of the research methodology, major findings, and implications for businesses in the e-commerce sector.\n",
    "\n",
    "4. Proposal Executive Summary:\n",
    "The proposal for 'Community Health Outreach Program' outlines a collaborative initiative to address health disparities and improve access to healthcare services in underserved communities. Through partnerships with local clinics, community organizations, and public health agencies, we propose to offer free health screenings, educational workshops, and preventive care interventions. This executive summary highlights the program's objectives, target population, proposed activities, and anticipated outcomes.\n",
    "\n",
    "5. Strategic Plan Executive Summary:\n",
    "The strategic plan for 'Global Expansion Strategy: Capturing New Markets and Driving Growth' outlines our organization's roadmap for expanding into international markets and diversifying our revenue streams. Key initiatives include market research and analysis, market entry strategies, partnership development, and localization efforts. This executive summary provides an overview of the strategic objectives, key performance indicators, resource allocation, and risk mitigation strategies involved in the global expansion initiative.\";"
   ]
  },
  {
   "cell_type": "code",
   "execution_count": 7,
   "metadata": {
    "dotnet_interactive": {
     "language": "csharp"
    },
    "polyglot_notebook": {
     "kernelName": "csharp"
    },
    "vscode": {
     "languageId": "polyglot-notebook"
    }
   },
   "outputs": [
    {
     "data": {
      "text/plain": [
       "Executive Summary:\n",
       "\n",
       "The ProcureXpert project aims to revolutionize the procurement process in organizations, cutting across various industries. The goal is to enhance transparency, efficiency, timeliness, and most importantly, accuracy through a centralized web-based application designed for request and management of quotations (RFQs).\n",
       "\n",
       "At its core, the project has objectives that revolve around developing a user-friendly application where buyers can easily create, submit, and manage RFQs. Further, it aspires to provide suppliers with a responsive platform where they can view, respond to, and track RFQs. \n",
       "\n",
       "Several key functionalities to be implemented include user authentication, RFQ creation and submission, supplier invitation, plus a built-in communication system. Additionally, features for status updates, automatic notifications, document management, reporting, and analytics, an admin dashboard, and security measures will be integrated into the system. These features will greatly improve the procurement process in a business/organization, making it efficient and seamless.\n",
       "\n",
       "Modeled after successful projects, such as the 'Enhancing Customer Experience through Digital Transformation', and the business plan for 'GreenTech Solutions Inc.', this project focuses on using modern technology to address traditional business challenges. Similarly, it bears prospective impacts akin to those of the 'Community Health Outreach Program’ and ‘Global Expansion Strategy: Capturing New Markets and Driving Growth', changing the way RFQs are managed.\n",
       "\n",
       "In conclusion, the ProcureXpert project has an ambitious aim to shape the future of procurement in organizations, making it smoother, faster and more convenient. By leveraging the digital revolution, we believe this project will open a new chapter in procurement, setting a benchmark for competitors in the industry."
      ]
     },
     "metadata": {},
     "output_type": "display_data"
    }
   ],
   "source": [
    "KernelArguments kernelArguments = new ();\n",
    "kernelArguments.Add(\"project\", project);\n",
    "kernelArguments.Add(\"scope\", scope);\n",
    "kernelArguments.Add(\"examples\", examples);\n",
    "\n",
    "kernel.Plugins.TryGetFunction(\"Manager\", \"ExecutiveSummary\", out var executiveSummaryFunction);\n",
    "\n",
    "var result = await kernel.InvokeAsync(executiveSummaryFunction, kernelArguments);\n",
    "\n",
    "var executiveSummary = result.GetValue<string>();\n",
    "\n",
    "executiveSummary"
   ]
  },
  {
   "cell_type": "markdown",
   "metadata": {},
   "source": [
    "## 🦹🏻‍♂️ Load something to memories\n",
    "I create 5 sample projects with executive summaries using ChatGPT and load created content into memories for consumption."
   ]
  },
  {
   "cell_type": "markdown",
   "metadata": {},
   "source": [
    "### Load some sample projects\n",
    "\n",
    "1. Project Name: SmartCity Infrastructure Development Initiative\n",
    "\n",
    "Executive Summary:\n",
    "The SmartCity Infrastructure Development Initiative aims to transform our city into a technologically advanced and sustainable urban center. Through the implementation of smart transportation systems, energy-efficient buildings, and IoT-enabled public services, we seek to enhance the quality of life for residents while reducing environmental impact. This executive summary provides an overview of the project's objectives, key strategies, anticipated benefits, and projected timeline for implementation.\n",
    "\n",
    "2. Project Name: HealthTech Innovation Accelerator\n",
    "\n",
    "Executive Summary:\n",
    "The HealthTech Innovation Accelerator project is a collaborative effort to foster innovation and entrepreneurship in the healthcare sector. By providing funding, mentorship, and access to resources, we aim to support startups and researchers in developing breakthrough technologies and solutions to address pressing healthcare challenges. This executive summary outlines the project's goals, target participants, program components, and expected outcomes.\n",
    "\n",
    "3. Project Name: Sustainable Agriculture Development Program\n",
    "\n",
    "Executive Summary:\n",
    "The Sustainable Agriculture Development Program seeks to promote environmentally friendly and socially responsible farming practices in rural communities. Through training workshops, financial incentives, and community partnerships, we aim to empower farmers to adopt sustainable techniques that improve productivity, protect natural resources, and enhance food security. This executive summary provides an overview of the program's objectives, implementation strategy, stakeholder engagement plan, and evaluation metrics.\n",
    "\n",
    "4. Project Name: Digital Literacy Outreach Initiative\n",
    "\n",
    "Executive Summary:\n",
    "The Digital Literacy Outreach Initiative aims to bridge the digital divide and empower underserved populations with essential digital skills and knowledge. Through workshops, training sessions, and community events, we seek to equip individuals with the tools and resources needed to thrive in an increasingly digital world. This executive summary outlines the project's objectives, target audience, outreach strategy, and anticipated impact on participants.\n",
    "\n",
    "5. Project Name: Renewable Energy Microgrid Deployment\n",
    "\n",
    "Executive Summary:\n",
    "The Renewable Energy Microgrid Deployment project aims to increase access to clean and reliable electricity in remote and off-grid communities. By deploying solar panels, wind turbines, and energy storage systems, we seek to establish decentralized microgrids that reduce dependence on fossil fuels and improve energy resilience. This executive summary provides an overview of the project scope, technical specifications, financing model, and expected benefits for participating communities."
   ]
  },
  {
   "cell_type": "code",
   "execution_count": 8,
   "metadata": {
    "dotnet_interactive": {
     "language": "csharp"
    },
    "polyglot_notebook": {
     "kernelName": "csharp"
    },
    "vscode": {
     "languageId": "polyglot-notebook"
    }
   },
   "outputs": [
    {
     "name": "stdout",
     "output_type": "stream",
     "text": [
      "Stored SmartCity Infrastructure Development Initiative with result SmartCity\n",
      "Stored HealthTech Innovation Accelerator with result HealthTech\n",
      "Stored Sustainable Agriculture Development Program with result Sustainable\n",
      "Stored Digital Literacy Outreach Initiative with result Digital\n",
      "Stored Renewable Energy Microgrid Deployment with result Renewable\n"
     ]
    }
   ],
   "source": [
    "class Project {\n",
    "    public string Id { get; set; }\n",
    "    public string Name { get; set; }\n",
    "    public string ExecutiveSummary { get; set; }\n",
    "}\n",
    "\n",
    "List<Project> projects = new List<Project>\n",
    "{\n",
    "    new Project { Id = \"SmartCity\", Name = \"SmartCity Infrastructure Development Initiative\", ExecutiveSummary = \"The SmartCity Infrastructure Development Initiative aims to transform our city into a technologically advanced and sustainable urban center. Through the implementation of smart transportation systems, energy-efficient buildings, and IoT-enabled public services, we seek to enhance the quality of life for residents while reducing environmental impact. This executive summary provides an overview of the project's objectives, key strategies, anticipated benefits, and projected timeline for implementation.\" },\n",
    "    new Project { Id = \"HealthTech\", Name = \"HealthTech Innovation Accelerator\", ExecutiveSummary = \"The HealthTech Innovation Accelerator project is a collaborative effort to foster innovation and entrepreneurship in the healthcare sector. By providing funding, mentorship, and access to resources, we aim to support startups and researchers in developing breakthrough technologies and solutions to address pressing healthcare challenges. This executive summary outlines the project's goals, target participants, program components, and expected outcomes.\" },\n",
    "    new Project { Id = \"Sustainable\", Name = \"Sustainable Agriculture Development Program\", ExecutiveSummary = \"The Sustainable Agriculture Development Program seeks to promote environmentally friendly and socially responsible farming practices in rural communities. Through training workshops, financial incentives, and community partnerships, we aim to empower farmers to adopt sustainable techniques that improve productivity, protect natural resources, and enhance food security. This executive summary provides an overview of the program's objectives, implementation strategy, stakeholder engagement plan, and evaluation metrics.\" },\n",
    "    new Project { Id = \"Digital\", Name = \"Digital Literacy Outreach Initiative\", ExecutiveSummary = \"The Digital Literacy Outreach Initiative aims to bridge the digital divide and empower underserved populations with essential digital skills and knowledge. Through workshops, training sessions, and community events, we seek to equip individuals with the tools and resources needed to thrive in an increasingly digital world. This executive summary outlines the project's objectives, target audience, outreach strategy, and anticipated impact on participants.\" },\n",
    "    new Project { Id = \"Renewable\", Name = \"Renewable Energy Microgrid Deployment\", ExecutiveSummary = \"The Renewable Energy Microgrid Deployment project aims to increase access to clean and reliable electricity in remote and off-grid communities. By deploying solar panels, wind turbines, and energy storage systems, we seek to establish decentralized microgrids that reduce dependence on fossil fuels and improve energy resilience. This executive summary provides an overview of the project scope, technical specifications, financing model, and expected benefits for participating communities.\" }\n",
    "};\n",
    "\n",
    "foreach(var project in projects)\n",
    "{\n",
    "    var result = await memory.ImportTextAsync(project.ExecutiveSummary, project.Id);\n",
    "    Console.WriteLine($\"Stored {project.Name} with result {result}\");\n",
    "}"
   ]
  },
  {
   "cell_type": "markdown",
   "metadata": {},
   "source": [
    "## 🧠Let's try to use HandelBar Planner\n",
    "I want to use HandleBar Planner to create a Executive Summary."
   ]
  },
  {
   "cell_type": "code",
   "execution_count": 9,
   "metadata": {
    "dotnet_interactive": {
     "language": "csharp"
    },
    "polyglot_notebook": {
     "kernelName": "csharp"
    },
    "vscode": {
     "languageId": "polyglot-notebook"
    }
   },
   "outputs": [
    {
     "data": {
      "text/plain": [
       "Project Name: ProcureXpert: Streamlining RFQ Management\n",
       "\n",
       "Executive Summary:\n",
       "\n",
       "Our project, \"ProcureXpert: Streamlining RFQ Management,\" is a software product in development which would greatly simplify and expedite the entire procurement process for organizations. This software solution will enable users to manage the Request for Quotations (RFQ) process, from request creation to final procurement decision, entirely digitally, saving time, reducing workloads, and preventing the gaps and errors common in highly manual processes. \n",
       "\n",
       "The solution is being brought to life by a skilled team comprising five developers who will code the software, two dedicated testers responsible for quality assurance, as well as a cloud solution architect who will ensure the scalable deployment of the product on a robust cloud infrastructure. \n",
       "\n",
       "Our aim is to develop a user-friendly interface, integrate the system with an automated notification feature for announcements, due dates, and milestone achievement, as well as ensure top-notch secure features aligning with data protection guidelines. \n",
       "\n",
       "The implementation of this project will benefit organizations across various industry sectors by enabling better cost control, reducing procurement timelines, improving vendor relationships, and making data-driven decisions.\n",
       "\n",
       "We are dedicated to delivering a high-quality software solution that substantially benefits procurement professionals, simplifies the RFQ process, and aligns with the digital transformation goals of modern-day businesses."
      ]
     },
     "metadata": {},
     "output_type": "display_data"
    }
   ],
   "source": [
    "var goal = $\"I want to create a executive summary for the project {project}.\";\n",
    "\n",
    "promptTemplate.AddUserMessage(goal);\n",
    "var result = await chatCompletion.GetChatMessageContentAsync(promptTemplate);\n",
    "\n",
    "result.Content"
   ]
  },
  {
   "cell_type": "code",
   "execution_count": 10,
   "metadata": {
    "dotnet_interactive": {
     "language": "csharp"
    },
    "polyglot_notebook": {
     "kernelName": "csharp"
    },
    "vscode": {
     "languageId": "polyglot-notebook"
    }
   },
   "outputs": [
    {
     "data": {
      "text/plain": [
       "{{!-- Step 1: Call the Manager-ExecutiveSummary helper with the project name--}}\n",
       "{{Manager-ExecutiveSummary project=\"ProcureXpert: Streamlining RFQ Management\" scope=\"Project Scope\" examples=\"Project Examples\"}}"
      ]
     },
     "metadata": {},
     "output_type": "display_data"
    }
   ],
   "source": [
    "#pragma warning disable SKEXP0060\n",
    "var options = new Microsoft.SemanticKernel.Planning.Handlebars.HandlebarsPlannerOptions\n",
    "{\n",
    "  AllowLoops = true,\n",
    "};\n",
    "var planner = new Microsoft.SemanticKernel.Planning.Handlebars.HandlebarsPlanner(options);\n",
    "\n",
    "var plan = await planner.CreatePlanAsync(kernel, goal);\n",
    "#pragma warning restore SKEXP0060\n",
    "\n",
    "plan.ToString()\n"
   ]
  },
  {
   "cell_type": "code",
   "execution_count": 11,
   "metadata": {
    "dotnet_interactive": {
     "language": "csharp"
    },
    "polyglot_notebook": {
     "kernelName": "csharp"
    },
    "vscode": {
     "languageId": "polyglot-notebook"
    }
   },
   "outputs": [
    {
     "data": {
      "text/plain": [
       "Executive Summary:\n",
       "ProcureXpert: Streamlining RFQ Management\n",
       "\n",
       "Introduction:\n",
       "The ProcureXpert project is aimed at optimizing Request for Quotation (RFQ) processes, enhancing the overall efficiency, speed, and robustness of procurement functions. The project anticipates leveraging technology to simplify, standardize, and automate the RFQ process, making it more transparent, traceable, and manageable.\n",
       "\n",
       "Project Description:\n",
       "The ProcureXpert will address inefficiencies present within the existing RFQ process that lead to delays, errors, and discrepancies. The project introduces a streamlined model, based on advanced technological tools, to increase productivity and accuracy in procurement operations. The primary focus of the project is to automate the RFQ process, enabling users to issue, respond to, and manage quotes swiftly and effectively.\n",
       "\n",
       "Key Objectives:\n",
       "1. Automation of the RFQ process to reduce manual efforts and minimize errors.\n",
       "2. Enhancement of traceability and accountability through digital records of all RFQs and responses.\n",
       "3. Improvement of speed and accuracy by standardizing RFQ templates and evaluation criteria.\n",
       "\n",
       "Expected Benefits: \n",
       "The ProcureXpert Project is forecasted to provide substantial benefits to the organization. It would not only improve procurement efficiency but would also result in significant cost and time savings. By standardizing and automating the RFQ management, the project will reduce human errors, enhance traceability, enable faster decision-making, and improve vendor relationships.\n",
       "\n",
       "Project Timeline:\n",
       "The project is slated to kick-start in Q1 and expected to be completed by Q4 of the financial year. The timeline includes the initial phase of requirements gathering, design and development phase, testing and quality assurance, and the final phase of implementation and training.\n",
       "\n",
       "Conclusion:\n",
       "ProcureXpert will revolutionize the RFQ management process by digitizing and automating the process, elevating the procurement department's operations to a new level of efficiency. The project’s benefits undoubtedly make it a strategic investment to optimize our procurement function. It's now time for our stakeholders to join us in this transformation and enjoy the rewards of a faster, reliable, and more efficient RFQ process.\n",
       "\n",
       "This executive summary paints a high-level overview of the ProcureXpert project and aligns everyone towards a common goal: to make the RFQ process more efficient, effective, and economical. It would not merely be a step forward; it would be a leap towards the future."
      ]
     },
     "metadata": {},
     "output_type": "display_data"
    }
   ],
   "source": [
    "#pragma warning disable SKEXP0060\n",
    "var result = await plan.InvokeAsync(kernel, kernelArguments);\n",
    "#pragma warning restore SKEXP0060\n",
    "\n",
    "result"
   ]
  },
  {
   "cell_type": "markdown",
   "metadata": {},
   "source": [
    "Try to use different goals and see how it works"
   ]
  },
  {
   "cell_type": "code",
   "execution_count": 12,
   "metadata": {
    "dotnet_interactive": {
     "language": "csharp"
    },
    "polyglot_notebook": {
     "kernelName": "csharp"
    },
    "vscode": {
     "languageId": "polyglot-notebook"
    }
   },
   "outputs": [
    {
     "name": "stdout",
     "output_type": "stream",
     "text": [
      "Plugin: Memory\n",
      "  Function: Save\n",
      "  Function: SaveFile\n",
      "  Function: SaveWebPage\n",
      "  Function: Search\n",
      "  Function: Ask\n",
      "  Function: Delete\n",
      "Plugin: Manager\n",
      "  Function: Scope\n",
      "  Function: ExecutiveSummary\n"
     ]
    }
   ],
   "source": [
    "// List all available plugins and functions in kernel\n",
    "var plugins = kernel.Plugins;\n",
    "\n",
    "foreach (var plugin in plugins)\n",
    "{\n",
    "    Console.WriteLine($\"Plugin: {plugin.Name}\");\n",
    "    foreach (var function in plugin.GetFunctionsMetadata())\n",
    "    {\n",
    "        Console.WriteLine($\"  Function: {function.Name}\");\n",
    "    }\n",
    "}"
   ]
  },
  {
   "cell_type": "code",
   "execution_count": 13,
   "metadata": {
    "dotnet_interactive": {
     "language": "csharp"
    },
    "polyglot_notebook": {
     "kernelName": "csharp"
    },
    "vscode": {
     "languageId": "polyglot-notebook"
    }
   },
   "outputs": [
    {
     "data": {
      "text/plain": [
       "{{!-- Step 1: Identify project name --}}\n",
       "{{set \"project\" \"ProcureXpert: Streamlining RFQ Management\"}}\n",
       "\n",
       "{{!-- Step 2: Identify project scope --}}\n",
       "{{set \"scope\" \"1. Introduction: The Web-based Request for Quotation (RFQ) Application aims to streamline the procurement process by providing a centralized platform for requesting and managing quotations from vendors. This application will facilitate efficient communication between buyers and suppliers, ensuring transparency, accuracy, and timeliness in the procurement process. 2. Objectives Develop a user-friendly web application for creating, submitting, and managing RFQs. Enable buyers to easily invite multiple suppliers to submit quotations for specified goods or services. Provide suppliers with a platform to view, respond to, and track RFQs. Implement features for automatic notifications, reminders, and status updates to keep all parties informed throughout the RFQ process. Ensure security and data confidentiality in handling sensitive procurement information. 3. Features and Functionalities: User Authentication: Secure login and registration for buyers and suppliers. RFQ Creation: Ability for buyers to create RFQs, specifying details such as product/service requirements, quantities, delivery deadlines, and any other relevant terms. Supplier Invitation: Buyers can invite specific suppliers or broadcast RFQs to a predefined list of approved vendors. Quotation Submission: Suppliers can view RFQs, prepare quotations, and submit them through the platform. Communication Tools: Built-in messaging system for buyers and suppliers to communicate regarding RFQ clarifications, negotiations, or other inquiries. Document Management: Support for attaching relevant documents, specifications, or additional files to RFQs and quotations. Tracking and Status Updates: Real-time tracking of RFQs and quotations, with notifications and alerts for key milestones such as submission deadlines, quote revisions, and award decisions. Reporting and Analytics: Generate reports and analytics on RFQ activity, supplier performance, response times, and other relevant metrics to facilitate decision-making and process improvements. Admin Dashboard: Administrative interface for managing users, permissions, system settings, and overseeing overall application functionality. Security Measures: Implementation of industry-standard security protocols to protect sensitive data, prevent unauthorized access, and ensure compliance with relevant data protection regulations.\"}}\n",
       "\n",
       "{{!-- Step 3: Extract and summarize project scope from user input --}}\n",
       "{{set \"summaryScope\" (Manager-Scope input=scope)}}\n",
       "\n",
       "{{!-- Step 4: Create a executive summary for the project --}}\n",
       "{{set \"executiveSummary\" (Manager-ExecutiveSummary project=project scope=summaryScope examples=summaryScope)}}\n",
       "\n",
       "{{!-- Step 5: Output the result --}}\n",
       "{{json executiveSummary}}"
      ]
     },
     "metadata": {},
     "output_type": "display_data"
    }
   ],
   "source": [
    "goal = $\"I want to create a executive summary for the project {project}. Below is the project scope: {scope}\";\n",
    "\n",
    "#pragma warning disable SKEXP0060\n",
    "var options = new Microsoft.SemanticKernel.Planning.Handlebars.HandlebarsPlannerOptions\n",
    "{\n",
    "  AllowLoops = true,\n",
    "};\n",
    "var planner = new Microsoft.SemanticKernel.Planning.Handlebars.HandlebarsPlanner(options);\n",
    "\n",
    "var plan = await planner.CreatePlanAsync(kernel, goal);\n",
    "#pragma warning restore SKEXP0060\n",
    "\n",
    "plan.ToString()"
   ]
  },
  {
   "cell_type": "code",
   "execution_count": 14,
   "metadata": {
    "dotnet_interactive": {
     "language": "csharp"
    },
    "polyglot_notebook": {
     "kernelName": "csharp"
    },
    "vscode": {
     "languageId": "polyglot-notebook"
    }
   },
   "outputs": [
    {
     "data": {
      "text/plain": [
       "EXECUTIVE SUMMARY\n",
       "\n",
       "Project Name: ProcureXpert - Streamlining RFQ Management\n",
       "\n",
       "The objective of the project, ProcureXpert, is to revolutionize and streamline the procurement process by introducing a web-based Request for Quotation (RFQ) application. Envisioned as a centralized platform system, it aims to expedite the creation, submission, and management of RFQs for enhanced buyer-supplier interactions. \n",
       "\n",
       "The scope of the project encompasses the design and development of a user-friendly platform, ensuring an intuitive interface for seamless RFQ management. The platform will allow buyers to invite multiple suppliers for quotations effortlessly. Suppliers, in turn, will have a dedicated space to track and respond to these RFQs, enhancing transparency and efficiency in the process. \n",
       "\n",
       "Effectual communication tools will facilitate better interaction between buyers and suppliers, while a document management system will ensure all relevant files associated with RFQs are in one centralized location. Moreover, automatic notifications, reminders, and status updates will be introduced to keep all parties informed of progress, fostering a smoother transaction process.\n",
       "\n",
       "In terms of data security and confidentiality, top-level user authentication features for secure login and registration will be integral elements of the project. Alongside these provisions, industry-standard security protocols will be implemented rigorously for the protection of sensitive data and assured compliance with the prevailing data protection regulations.\n",
       "\n",
       "A notable feature of ProcureXpert will be the real-time tracking system for RFQs and quotations, equipped with alerts for key milestones. Implemented features will also enable buyers to specify the finer details of their RFQs and further enhance the precision and relevancy of responses from suppliers. \n",
       "\n",
       "Analytic capacity is another significant aspect of the platform. Features will be installed for generating comprehensive reports on RFQ activity and supplier performance, fostering informed decisions.\n",
       "\n",
       "Finally, an admin dashboard will be established for effective overall management of users, permissions, system settings, and an overarching view on the application functionality.\n",
       "\n",
       "ProcureXpert represents a significant advancement toward an efficient, transparent, and user-friendly RFQ management system, promising a profound impact on procurement processes."
      ]
     },
     "metadata": {},
     "output_type": "display_data"
    }
   ],
   "source": [
    "#pragma warning disable SKEXP0060\n",
    "var result = await plan.InvokeAsync(kernel, kernelArguments);\n",
    "#pragma warning restore SKEXP0060\n",
    "\n",
    "result"
   ]
  }
 ],
 "metadata": {
  "language_info": {
   "name": "csharp"
  }
 },
 "nbformat": 4,
 "nbformat_minor": 2
}
