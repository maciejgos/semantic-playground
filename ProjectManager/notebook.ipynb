{
 "cells": [
  {
   "cell_type": "markdown",
   "metadata": {},
   "source": [
    "# Goal is to help Project Manager to create outstanding presentation 🚀\n",
    "This notebook shows how to use HandleBar Planners with some Plugins to orchestrate process of PowerPoint creation\n"
   ]
  },
  {
   "cell_type": "markdown",
   "metadata": {},
   "source": [
    "## 🔥 Let's get the required packages and fire up a kernel"
   ]
  },
  {
   "cell_type": "code",
   "execution_count": 15,
   "metadata": {
    "dotnet_interactive": {
     "language": "csharp"
    },
    "polyglot_notebook": {
     "kernelName": "csharp"
    },
    "vscode": {
     "languageId": "polyglot-notebook"
    }
   },
   "outputs": [
    {
     "data": {
      "text/html": [
       "<div><div></div><div></div><div><strong>Installed Packages</strong><ul><li><span>Microsoft.KernelMemory.Core, 0.28.240212.1</span></li><li><span>Microsoft.KernelMemory.SemanticKernelPlugin, 0.28.240212.1</span></li><li><span>Microsoft.SemanticKernel, 1.3.1</span></li><li><span>Microsoft.SemanticKernel.Planners.Handlebars, 1.3.1-preview</span></li></ul></div></div>"
      ]
     },
     "metadata": {},
     "output_type": "display_data"
    }
   ],
   "source": [
    "#!import ../config/Settings.cs\n",
    "\n",
    "#r \"nuget: Microsoft.SemanticKernel, 1.3.1\"\n",
    "#r \"nuget: Microsoft.SemanticKernel.Planners.Handlebars, 1.3.1-preview\"\n",
    "#r \"nuget: Microsoft.KernelMemory.SemanticKernelPlugin, 0.28.240212.1\"\n",
    "#r \"nuget: Microsoft.KernelMemory.Core, 0.28.240212.1\""
   ]
  },
  {
   "cell_type": "code",
   "execution_count": 16,
   "metadata": {
    "dotnet_interactive": {
     "language": "csharp"
    },
    "polyglot_notebook": {
     "kernelName": "csharp"
    },
    "vscode": {
     "languageId": "polyglot-notebook"
    }
   },
   "outputs": [],
   "source": [
    "using Microsoft.SemanticKernel;\n",
    "using Microsoft.SemanticKernel.ChatCompletion;\n",
    "using Kernel = Microsoft.SemanticKernel.Kernel;\n",
    "using Microsoft.KernelMemory;\n",
    "\n",
    "var pluginsDirectory = Path.Combine(Directory.GetCurrentDirectory(), \"plugins\");\n",
    "var (useAzureOpenAI, model, azureEndpoint, apiKey, orgId) = Settings.LoadFromFile();\n",
    "var builder = Kernel.CreateBuilder();\n",
    "if(useAzureOpenAI)\n",
    "    builder.AddAzureOpenAIChatCompletion(model, azureEndpoint, apiKey);\n",
    "else\n",
    "    builder.AddOpenAIChatCompletion(model, apiKey);\n",
    "\n",
    "builder.Plugins.AddFromPromptDirectory(Path.Combine(pluginsDirectory, \"Manager\"), \"Manager\");\n",
    "\n",
    "var kernel = builder.Build();"
   ]
  },
  {
   "cell_type": "markdown",
   "metadata": {},
   "source": [
    "## 👨‍💻 Let's load a AI Manager\n",
    "Here I setup System Description and assist system to behave as a manager in IT company"
   ]
  },
  {
   "cell_type": "code",
   "execution_count": 17,
   "metadata": {
    "dotnet_interactive": {
     "language": "csharp"
    },
    "polyglot_notebook": {
     "kernelName": "csharp"
    },
    "vscode": {
     "languageId": "polyglot-notebook"
    }
   },
   "outputs": [],
   "source": [
    "var systemDescription = @\"You are a Project Manager in IT company. You are responsible for the development of a new software product. \n",
    "                          You have a team of 5 developers, 2 testers and cloud solution architect. \";\n",
    "\n",
    "IChatCompletionService chatCompletion = kernel.Services.GetService(typeof(IChatCompletionService)) as IChatCompletionService;\n",
    "var promptTemplate = new ChatHistory(systemDescription);"
   ]
  },
  {
   "cell_type": "code",
   "execution_count": 18,
   "metadata": {
    "dotnet_interactive": {
     "language": "csharp"
    },
    "polyglot_notebook": {
     "kernelName": "csharp"
    },
    "vscode": {
     "languageId": "polyglot-notebook"
    }
   },
   "outputs": [
    {
     "data": {
      "text/plain": [
       "Hello! How can I assist you with your software development project today?"
      ]
     },
     "metadata": {},
     "output_type": "display_data"
    }
   ],
   "source": [
    "promptTemplate.AddUserMessage(\"Hello\");\n",
    "var result = await chatCompletion.GetChatMessageContentAsync(promptTemplate);\n",
    "\n",
    "promptTemplate.AddAssistantMessage(result.Content);\n",
    "\n",
    "result.Content"
   ]
  },
  {
   "cell_type": "markdown",
   "metadata": {},
   "source": [
    "## 🔌 Try one of plugins\n",
    "I want to add some plugins to kernel to execute specific actions\n"
   ]
  },
  {
   "cell_type": "code",
   "execution_count": 19,
   "metadata": {
    "dotnet_interactive": {
     "language": "csharp"
    },
    "polyglot_notebook": {
     "kernelName": "csharp"
    },
    "vscode": {
     "languageId": "polyglot-notebook"
    }
   },
   "outputs": [],
   "source": [
    "var project = \"ProcureXpert: Streamlining RFQ Management\";\n",
    "var scope = @\"1. Introduction:\n",
    "The Web-based Request for Quotation (RFQ) Application aims to streamline the procurement process by providing a centralized platform for requesting and managing quotations from vendors. This application will facilitate efficient communication between buyers and suppliers, ensuring transparency, accuracy, and timeliness in the procurement process.\n",
    "\n",
    "2. Objectives\n",
    "\n",
    "Develop a user-friendly web application for creating, submitting, and managing RFQs.\n",
    "Enable buyers to easily invite multiple suppliers to submit quotations for specified goods or services.\n",
    "Provide suppliers with a platform to view, respond to, and track RFQs.\n",
    "Implement features for automatic notifications, reminders, and status updates to keep all parties informed throughout the RFQ process.\n",
    "Ensure security and data confidentiality in handling sensitive procurement information.\n",
    "3. Features and Functionalities:\n",
    "\n",
    "User Authentication: Secure login and registration for buyers and suppliers.\n",
    "RFQ Creation: Ability for buyers to create RFQs, specifying details such as product/service requirements, quantities, delivery deadlines, and any other relevant terms.\n",
    "Supplier Invitation: Buyers can invite specific suppliers or broadcast RFQs to a predefined list of approved vendors.\n",
    "Quotation Submission: Suppliers can view RFQs, prepare quotations, and submit them through the platform.\n",
    "Communication Tools: Built-in messaging system for buyers and suppliers to communicate regarding RFQ clarifications, negotiations, or other inquiries.\n",
    "Document Management: Support for attaching relevant documents, specifications, or additional files to RFQs and quotations.\n",
    "Tracking and Status Updates: Real-time tracking of RFQs and quotations, with notifications and alerts for key milestones such as submission deadlines, quote revisions, and award decisions.\n",
    "Reporting and Analytics: Generate reports and analytics on RFQ activity, supplier performance, response times, and other relevant metrics to facilitate decision-making and process improvements.\n",
    "Admin Dashboard: Administrative interface for managing users, permissions, system settings, and overseeing overall application functionality.\n",
    "Security Measures: Implementation of industry-standard security protocols to protect sensitive data, prevent unauthorized access, and ensure compliance with relevant data protection regulations.\";\n",
    "var examples = @\"1. Project Executive Summary:\n",
    "The project 'Enhancing Customer Experience through Digital Transformation' aims to revolutionize our company's customer engagement strategy by leveraging digital technologies. Through the implementation of AI-powered chatbots, personalized recommendation engines, and seamless omnichannel integration, we seek to deliver a superior and more tailored experience to our customers. This executive summary provides an overview of the project objectives, key strategies, anticipated benefits, and projected timeline for implementation.\n",
    "2. Business Plan Executive Summary:\n",
    "The business plan for 'GreenTech Solutions Inc.' outlines our vision to become a leading provider of sustainable technology solutions in the renewable energy sector. By offering innovative solar energy systems, energy-efficient appliances, and eco-friendly smart home solutions, we aim to address the growing demand for environmentally conscious products. This executive summary highlights our market opportunity, competitive advantages, revenue projections, and strategic growth initiatives.\n",
    "\n",
    "3. Research Report Executive Summary:\n",
    "The research report 'Trends and Insights in E-commerce: Navigating the Digital Landscape' provides a comprehensive analysis of current trends, consumer behavior, and emerging technologies shaping the e-commerce industry. Key findings include the rise of mobile commerce, the growing influence of social media in purchase decisions, and the increasing demand for personalized shopping experiences. This executive summary presents a concise overview of the research methodology, major findings, and implications for businesses in the e-commerce sector.\n",
    "\n",
    "4. Proposal Executive Summary:\n",
    "The proposal for 'Community Health Outreach Program' outlines a collaborative initiative to address health disparities and improve access to healthcare services in underserved communities. Through partnerships with local clinics, community organizations, and public health agencies, we propose to offer free health screenings, educational workshops, and preventive care interventions. This executive summary highlights the program's objectives, target population, proposed activities, and anticipated outcomes.\n",
    "\n",
    "5. Strategic Plan Executive Summary:\n",
    "The strategic plan for 'Global Expansion Strategy: Capturing New Markets and Driving Growth' outlines our organization's roadmap for expanding into international markets and diversifying our revenue streams. Key initiatives include market research and analysis, market entry strategies, partnership development, and localization efforts. This executive summary provides an overview of the strategic objectives, key performance indicators, resource allocation, and risk mitigation strategies involved in the global expansion initiative.\";"
   ]
  },
  {
   "cell_type": "code",
   "execution_count": 20,
   "metadata": {
    "dotnet_interactive": {
     "language": "csharp"
    },
    "polyglot_notebook": {
     "kernelName": "csharp"
    },
    "vscode": {
     "languageId": "polyglot-notebook"
    }
   },
   "outputs": [
    {
     "data": {
      "text/plain": [
       "Executive Summary for ProcureXpert: Streamlining RFQ Management\n",
       "\n",
       "Project ProcureXpert is an innovative, user-friendly web application designed to revolutionize the procurement process in businesses of all sizes. The project aims to provide a centralized platform where buyers can efficiently request and manage quotations from various suppliers, thereby fostering transparency, accuracy, and timeliness in the procurement process.\n",
       "\n",
       "The critical objectives of this project include developing an easy-to-use web application, enabling buyers to invite multiple suppliers, providing suppliers with a platform for RFQ tracking, implementing automatic notifications, reminders, and status updates, and potential risk mitigation, all while maintaining security and data confidentiality.\n",
       "\n",
       "Key features and functionalities include secure user authentication, RFQ creation, supplier invitation, quotation submission, and communication tools. Additionally, an in-built document management system, real-time RFQ tracking, generation of reports and analytics, a comprehensive admin dashboard, and stringent security measures will also be part of the solution. \n",
       "\n",
       "ProcureXpert project is more than just an application; it's a digital procurement ecosystem designed around accuracy, efficiency, and security. This comprehensive RFQ management system will undoubtedly bring a significant transformation in the way businesses handle their procurement processes, making them more organized, systematic, and transparent.\n",
       "\n",
       "The successful implementation of ProcureXpert will streamline procurement processes, enhance supplier relationships, and ultimately drive business growth by ensuring cost-effective, timely, and effective procurement management. \n",
       "\n",
       "This executive summary provides an overview of the project's objectives, key strategies, anticipated benefits, and the value it brings to stakeholders involved in the RFQ process, highlighting the user-friendly interface, functional capabilities, security measures, and impact on business efficiency."
      ]
     },
     "metadata": {},
     "output_type": "display_data"
    }
   ],
   "source": [
    "KernelArguments kernelArguments = new ();\n",
    "kernelArguments.Add(\"project\", project);\n",
    "kernelArguments.Add(\"scope\", scope);\n",
    "kernelArguments.Add(\"examples\", examples);\n",
    "\n",
    "kernel.Plugins.TryGetFunction(\"Manager\", \"ExecutiveSummary\", out var executiveSummaryFunction);\n",
    "\n",
    "var result = await kernel.InvokeAsync(executiveSummaryFunction, kernelArguments);\n",
    "\n",
    "var executiveSummary = result.GetValue<string>();\n",
    "\n",
    "executiveSummary"
   ]
  },
  {
   "cell_type": "markdown",
   "metadata": {},
   "source": [
    "## 🦹🏻‍♂️ Load something to memories\n",
    "I create 5 sample projects with executive summaries using ChatGPT and load created content into memories for consumption."
   ]
  },
  {
   "cell_type": "code",
   "execution_count": 28,
   "metadata": {
    "vscode": {
     "languageId": "polyglot-notebook"
    }
   },
   "outputs": [],
   "source": [
    "var embeddingConfig = new AzureOpenAIConfig\n",
    "{\n",
    "    Endpoint = azureEndpoint,\n",
    "    APIKey = apiKey,\n",
    "    APIType = AzureOpenAIConfig.APITypes.EmbeddingGeneration,\n",
    "    Auth = AzureOpenAIConfig.AuthTypes.APIKey,\n",
    "    Deployment = \"text-embedding-ada-002\"\n",
    "};\n",
    "\n",
    "var textConfig = new AzureOpenAIConfig\n",
    "{\n",
    "    Endpoint = azureEndpoint,\n",
    "    APIKey = apiKey,\n",
    "    APIType = AzureOpenAIConfig.APITypes.EmbeddingGeneration,\n",
    "    Auth = AzureOpenAIConfig.AuthTypes.APIKey,\n",
    "    Deployment = \"gpt-4\"\n",
    "};\n",
    "\n",
    "var memory = new Microsoft.KernelMemory.KernelMemoryBuilder()\n",
    "    .WithAzureOpenAITextEmbeddingGeneration(embeddingConfig)\n",
    "    .WithAzureOpenAITextGeneration(textConfig)\n",
    "    .WithSimpleVectorDb()\n",
    "    .Build<MemoryServerless>();"
   ]
  },
  {
   "cell_type": "markdown",
   "metadata": {},
   "source": [
    "### Load some sample projects\n",
    "\n",
    "1. Project Name: SmartCity Infrastructure Development Initiative\n",
    "\n",
    "Executive Summary:\n",
    "The SmartCity Infrastructure Development Initiative aims to transform our city into a technologically advanced and sustainable urban center. Through the implementation of smart transportation systems, energy-efficient buildings, and IoT-enabled public services, we seek to enhance the quality of life for residents while reducing environmental impact. This executive summary provides an overview of the project's objectives, key strategies, anticipated benefits, and projected timeline for implementation.\n",
    "\n",
    "2. Project Name: HealthTech Innovation Accelerator\n",
    "\n",
    "Executive Summary:\n",
    "The HealthTech Innovation Accelerator project is a collaborative effort to foster innovation and entrepreneurship in the healthcare sector. By providing funding, mentorship, and access to resources, we aim to support startups and researchers in developing breakthrough technologies and solutions to address pressing healthcare challenges. This executive summary outlines the project's goals, target participants, program components, and expected outcomes.\n",
    "\n",
    "3. Project Name: Sustainable Agriculture Development Program\n",
    "\n",
    "Executive Summary:\n",
    "The Sustainable Agriculture Development Program seeks to promote environmentally friendly and socially responsible farming practices in rural communities. Through training workshops, financial incentives, and community partnerships, we aim to empower farmers to adopt sustainable techniques that improve productivity, protect natural resources, and enhance food security. This executive summary provides an overview of the program's objectives, implementation strategy, stakeholder engagement plan, and evaluation metrics.\n",
    "\n",
    "4. Project Name: Digital Literacy Outreach Initiative\n",
    "\n",
    "Executive Summary:\n",
    "The Digital Literacy Outreach Initiative aims to bridge the digital divide and empower underserved populations with essential digital skills and knowledge. Through workshops, training sessions, and community events, we seek to equip individuals with the tools and resources needed to thrive in an increasingly digital world. This executive summary outlines the project's objectives, target audience, outreach strategy, and anticipated impact on participants.\n",
    "\n",
    "5. Project Name: Renewable Energy Microgrid Deployment\n",
    "\n",
    "Executive Summary:\n",
    "The Renewable Energy Microgrid Deployment project aims to increase access to clean and reliable electricity in remote and off-grid communities. By deploying solar panels, wind turbines, and energy storage systems, we seek to establish decentralized microgrids that reduce dependence on fossil fuels and improve energy resilience. This executive summary provides an overview of the project scope, technical specifications, financing model, and expected benefits for participating communities."
   ]
  },
  {
   "cell_type": "code",
   "execution_count": 30,
   "metadata": {
    "dotnet_interactive": {
     "language": "csharp"
    },
    "polyglot_notebook": {
     "kernelName": "csharp"
    },
    "vscode": {
     "languageId": "polyglot-notebook"
    }
   },
   "outputs": [
    {
     "name": "stdout",
     "output_type": "stream",
     "text": [
      "Stored SmartCity Infrastructure Development Initiative with result SmartCity\n",
      "Stored HealthTech Innovation Accelerator with result HealthTech\n",
      "Stored Sustainable Agriculture Development Program with result Sustainable\n",
      "Stored Digital Literacy Outreach Initiative with result Digital\n",
      "Stored Renewable Energy Microgrid Deployment with result Renewable\n"
     ]
    }
   ],
   "source": [
    "class Project {\n",
    "    public string Id { get; set; }\n",
    "    public string Name { get; set; }\n",
    "    public string ExecutiveSummary { get; set; }\n",
    "}\n",
    "\n",
    "List<Project> projects = new List<Project>\n",
    "{\n",
    "    new Project { Id = \"SmartCity\", Name = \"SmartCity Infrastructure Development Initiative\", ExecutiveSummary = \"The SmartCity Infrastructure Development Initiative aims to transform our city into a technologically advanced and sustainable urban center. Through the implementation of smart transportation systems, energy-efficient buildings, and IoT-enabled public services, we seek to enhance the quality of life for residents while reducing environmental impact. This executive summary provides an overview of the project's objectives, key strategies, anticipated benefits, and projected timeline for implementation.\" },\n",
    "    new Project { Id = \"HealthTech\", Name = \"HealthTech Innovation Accelerator\", ExecutiveSummary = \"The HealthTech Innovation Accelerator project is a collaborative effort to foster innovation and entrepreneurship in the healthcare sector. By providing funding, mentorship, and access to resources, we aim to support startups and researchers in developing breakthrough technologies and solutions to address pressing healthcare challenges. This executive summary outlines the project's goals, target participants, program components, and expected outcomes.\" },\n",
    "    new Project { Id = \"Sustainable\", Name = \"Sustainable Agriculture Development Program\", ExecutiveSummary = \"The Sustainable Agriculture Development Program seeks to promote environmentally friendly and socially responsible farming practices in rural communities. Through training workshops, financial incentives, and community partnerships, we aim to empower farmers to adopt sustainable techniques that improve productivity, protect natural resources, and enhance food security. This executive summary provides an overview of the program's objectives, implementation strategy, stakeholder engagement plan, and evaluation metrics.\" },\n",
    "    new Project { Id = \"Digital\", Name = \"Digital Literacy Outreach Initiative\", ExecutiveSummary = \"The Digital Literacy Outreach Initiative aims to bridge the digital divide and empower underserved populations with essential digital skills and knowledge. Through workshops, training sessions, and community events, we seek to equip individuals with the tools and resources needed to thrive in an increasingly digital world. This executive summary outlines the project's objectives, target audience, outreach strategy, and anticipated impact on participants.\" },\n",
    "    new Project { Id = \"Renewable\", Name = \"Renewable Energy Microgrid Deployment\", ExecutiveSummary = \"The Renewable Energy Microgrid Deployment project aims to increase access to clean and reliable electricity in remote and off-grid communities. By deploying solar panels, wind turbines, and energy storage systems, we seek to establish decentralized microgrids that reduce dependence on fossil fuels and improve energy resilience. This executive summary provides an overview of the project scope, technical specifications, financing model, and expected benefits for participating communities.\" }\n",
    "};\n",
    "\n",
    "foreach(var project in projects)\n",
    "{\n",
    "    var result = await memory.ImportTextAsync(project.ExecutiveSummary, project.Id);\n",
    "    Console.WriteLine($\"Stored {project.Name} with result {result}\");\n",
    "}"
   ]
  }
 ],
 "metadata": {
  "language_info": {
   "name": "csharp"
  }
 },
 "nbformat": 4,
 "nbformat_minor": 2
}
