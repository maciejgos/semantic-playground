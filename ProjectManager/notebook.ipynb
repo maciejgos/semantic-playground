{
 "cells": [
  {
   "cell_type": "markdown",
   "metadata": {},
   "source": [
    "# Goal is to help Project Manager to create outstanding presentation 🚀\n",
    "This notebook shows how to use HandleBar Planners with some Plugins to orchestrate process of PowerPoint creation\n"
   ]
  },
  {
   "cell_type": "markdown",
   "metadata": {},
   "source": [
    "## 🔥 Let's get the required packages and fire up a kernel"
   ]
  },
  {
   "cell_type": "code",
   "execution_count": 6,
   "metadata": {
    "dotnet_interactive": {
     "language": "csharp"
    },
    "polyglot_notebook": {
     "kernelName": "csharp"
    },
    "vscode": {
     "languageId": "polyglot-notebook"
    }
   },
   "outputs": [
    {
     "data": {
      "text/html": [
       "<div><div></div><div></div><div><strong>Installed Packages</strong><ul><li><span>Microsoft.KernelMemory.SemanticKernelPlugin, 0.28.240212.1</span></li><li><span>Microsoft.SemanticKernel, 1.3.1</span></li><li><span>Microsoft.SemanticKernel.Planners.Handlebars, 1.3.1-preview</span></li></ul></div></div>"
      ]
     },
     "metadata": {},
     "output_type": "display_data"
    }
   ],
   "source": [
    "#!import ../config/Settings.cs\n",
    "\n",
    "#r \"nuget: Microsoft.SemanticKernel, 1.3.1\"\n",
    "#r \"nuget: Microsoft.SemanticKernel.Planners.Handlebars, 1.3.1-preview\"\n",
    "#r \"nuget: Microsoft.KernelMemory.SemanticKernelPlugin, 0.28.240212.1\""
   ]
  },
  {
   "cell_type": "code",
   "execution_count": 7,
   "metadata": {
    "dotnet_interactive": {
     "language": "csharp"
    },
    "polyglot_notebook": {
     "kernelName": "csharp"
    },
    "vscode": {
     "languageId": "polyglot-notebook"
    }
   },
   "outputs": [],
   "source": [
    "using Microsoft.SemanticKernel;\n",
    "using Microsoft.SemanticKernel.ChatCompletion;\n",
    "using Kernel = Microsoft.SemanticKernel.Kernel;\n",
    "\n",
    "var pluginsDirectory = Path.Combine(Directory.GetCurrentDirectory(), \"plugins\");\n",
    "var (useAzureOpenAI, model, azureEndpoint, apiKey, orgId) = Settings.LoadFromFile();\n",
    "var builder = Kernel.CreateBuilder();\n",
    "if(useAzureOpenAI)\n",
    "    builder.AddAzureOpenAIChatCompletion(model, azureEndpoint, apiKey);\n",
    "else\n",
    "    builder.AddOpenAIChatCompletion(model, apiKey);\n",
    "\n",
    "builder.Plugins.AddFromPromptDirectory(Path.Combine(pluginsDirectory, \"Manager\"), \"Manager\");\n",
    "\n",
    "var kernel = builder.Build();"
   ]
  },
  {
   "cell_type": "markdown",
   "metadata": {},
   "source": [
    "## 👨‍💻 Let's load a AI Manager\n",
    "Here I setup System Description and assist system to behave as a manager in IT company"
   ]
  },
  {
   "cell_type": "code",
   "execution_count": 8,
   "metadata": {
    "dotnet_interactive": {
     "language": "csharp"
    },
    "polyglot_notebook": {
     "kernelName": "csharp"
    },
    "vscode": {
     "languageId": "polyglot-notebook"
    }
   },
   "outputs": [],
   "source": [
    "var systemDescription = @\"You are a Project Manager in IT company. You are responsible for the development of a new software product. \n",
    "                          You have a team of 5 developers, 2 testers and cloud solution architect. \";\n",
    "\n",
    "IChatCompletionService chatCompletion = kernel.Services.GetService(typeof(IChatCompletionService)) as IChatCompletionService;\n",
    "var promptTemplate = new ChatHistory(systemDescription);"
   ]
  },
  {
   "cell_type": "code",
   "execution_count": 9,
   "metadata": {
    "dotnet_interactive": {
     "language": "csharp"
    },
    "polyglot_notebook": {
     "kernelName": "csharp"
    },
    "vscode": {
     "languageId": "polyglot-notebook"
    }
   },
   "outputs": [],
   "source": [
    "promptTemplate.AddUserMessage(\"Hello\");\n",
    "var result = await chatCompletion.GetChatMessageContentAsync(promptTemplate);\n",
    "\n",
    "promptTemplate.AddAssistantMessage(result.Content);"
   ]
  },
  {
   "cell_type": "markdown",
   "metadata": {},
   "source": [
    "## 🔌 Try one of plugins\n",
    "I want to add some plugins to kernel to execute specific actions\n"
   ]
  },
  {
   "cell_type": "code",
   "execution_count": 24,
   "metadata": {
    "dotnet_interactive": {
     "language": "csharp"
    },
    "polyglot_notebook": {
     "kernelName": "csharp"
    },
    "vscode": {
     "languageId": "polyglot-notebook"
    }
   },
   "outputs": [],
   "source": [
    "var project = \"ProcureXpert: Streamlining RFQ Management\";\n",
    "var scope = @\"1. Introduction:\n",
    "The Web-based Request for Quotation (RFQ) Application aims to streamline the procurement process by providing a centralized platform for requesting and managing quotations from vendors. This application will facilitate efficient communication between buyers and suppliers, ensuring transparency, accuracy, and timeliness in the procurement process.\n",
    "\n",
    "2. Objectives\n",
    "\n",
    "Develop a user-friendly web application for creating, submitting, and managing RFQs.\n",
    "Enable buyers to easily invite multiple suppliers to submit quotations for specified goods or services.\n",
    "Provide suppliers with a platform to view, respond to, and track RFQs.\n",
    "Implement features for automatic notifications, reminders, and status updates to keep all parties informed throughout the RFQ process.\n",
    "Ensure security and data confidentiality in handling sensitive procurement information.\n",
    "3. Features and Functionalities:\n",
    "\n",
    "User Authentication: Secure login and registration for buyers and suppliers.\n",
    "RFQ Creation: Ability for buyers to create RFQs, specifying details such as product/service requirements, quantities, delivery deadlines, and any other relevant terms.\n",
    "Supplier Invitation: Buyers can invite specific suppliers or broadcast RFQs to a predefined list of approved vendors.\n",
    "Quotation Submission: Suppliers can view RFQs, prepare quotations, and submit them through the platform.\n",
    "Communication Tools: Built-in messaging system for buyers and suppliers to communicate regarding RFQ clarifications, negotiations, or other inquiries.\n",
    "Document Management: Support for attaching relevant documents, specifications, or additional files to RFQs and quotations.\n",
    "Tracking and Status Updates: Real-time tracking of RFQs and quotations, with notifications and alerts for key milestones such as submission deadlines, quote revisions, and award decisions.\n",
    "Reporting and Analytics: Generate reports and analytics on RFQ activity, supplier performance, response times, and other relevant metrics to facilitate decision-making and process improvements.\n",
    "Admin Dashboard: Administrative interface for managing users, permissions, system settings, and overseeing overall application functionality.\n",
    "Security Measures: Implementation of industry-standard security protocols to protect sensitive data, prevent unauthorized access, and ensure compliance with relevant data protection regulations.\";\n",
    "var examples = @\"\";"
   ]
  },
  {
   "cell_type": "code",
   "execution_count": 25,
   "metadata": {
    "dotnet_interactive": {
     "language": "csharp"
    },
    "polyglot_notebook": {
     "kernelName": "csharp"
    },
    "vscode": {
     "languageId": "polyglot-notebook"
    }
   },
   "outputs": [
    {
     "data": {
      "text/plain": [
       "EXECUTIVE SUMMARY\n",
       "\n",
       "Project Name: ProcureXpert: Streamlining RFQ Management\n",
       "\n",
       "Introduction: \n",
       "This project intends to revolutionize procurement operations by creating a web-based platform, ProcureXpert, designed to simplify and automate the Request for Quotation (RFQ) process. By digitizing and centralizing procurement processes, ProcureXpert aims to enhance efficiency, transparency, and accuracy in communication and transaction between buyers and suppliers.\n",
       "\n",
       "Aims and Objectives: \n",
       "ProcureXpert aims to create a user-friendly application that allows easy RFQ creation, submission, and management. The platform will facilitate buyers in inviting suppliers, managing quotations, and ensuring a swift procurement process. It will also provide vendors with a reliable platform to respond and keep track of RFQs. Moreover, it will include essential features such as automatic notifications, reminders, and status updates, ensuring all parties are synchronously involved in the procurement lifecycle.\n",
       "\n",
       "Project Features:\n",
       "Key features of ProcureXpert include secure user authentication, RFQ creation and submission, supplier invitation, built-in messaging system, document management, real-time tracking, status updates, and a user-friendly admin dashboard. Additionally, reporting and analytics tools will provide comprehensive insights into RFQ activity, supplier performance, and response times for continuous improvement and informed decision-making. With industry-standard security protocols, ProcureXpert will maintain the highest levels of data security and confidentiality.\n",
       "\n",
       "Conclusion:\n",
       "The implementation of ProcureXpert will boost procurement efficiency, result in time and cost savings, and enable more strategic, data-driven procurement decisions. By providing a comprehensive platform for RFQ management, ProcureXpert is anticipated to be an integral part of procurement transformation in every organization. We believe that this project deserves strategic investment and continuous support from all stakeholders."
      ]
     },
     "metadata": {},
     "output_type": "display_data"
    }
   ],
   "source": [
    "KernelArguments kernelArguments = new ();\n",
    "kernelArguments.Add(\"project\", project);\n",
    "kernelArguments.Add(\"scope\", scope);\n",
    "kernelArguments.Add(\"examples\", examples);\n",
    "\n",
    "kernel.Plugins.TryGetFunction(\"Manager\", \"ExecutiveSummary\", out var executiveSummaryFunction);\n",
    "\n",
    "var result = await kernel.InvokeAsync(executiveSummaryFunction, kernelArguments);\n",
    "\n",
    "var executiveSummary = result.GetValue<string>();\n",
    "\n",
    "executiveSummary"
   ]
  }
 ],
 "metadata": {
  "language_info": {
   "name": "csharp"
  }
 },
 "nbformat": 4,
 "nbformat_minor": 2
}
