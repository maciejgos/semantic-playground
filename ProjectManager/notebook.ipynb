{
 "cells": [
  {
   "cell_type": "markdown",
   "metadata": {},
   "source": [
    "# Goal is to help Project Manager to create outstanding presentation 🚀\n",
    "This notebook shows how to use HandleBar Planners with some Plugins to orchestrate process of PowerPoint creation\n"
   ]
  },
  {
   "cell_type": "markdown",
   "metadata": {},
   "source": [
    "## 🔥 Let's get the required packages and fire up a kernel"
   ]
  },
  {
   "cell_type": "code",
   "execution_count": 44,
   "metadata": {
    "dotnet_interactive": {
     "language": "csharp"
    },
    "polyglot_notebook": {
     "kernelName": "csharp"
    },
    "vscode": {
     "languageId": "polyglot-notebook"
    }
   },
   "outputs": [
    {
     "data": {
      "text/html": [
       "<div><div></div><div></div><div><strong>Installed Packages</strong><ul><li><span>Microsoft.KernelMemory.SemanticKernelPlugin, 0.28.240212.1</span></li><li><span>Microsoft.SemanticKernel, 1.3.1</span></li><li><span>Microsoft.SemanticKernel.Planners.Handlebars, 1.3.1-preview</span></li></ul></div></div>"
      ]
     },
     "metadata": {},
     "output_type": "display_data"
    }
   ],
   "source": [
    "#!import ../config/Settings.cs\n",
    "\n",
    "#r \"nuget: Microsoft.SemanticKernel, 1.3.1\"\n",
    "#r \"nuget: Microsoft.SemanticKernel.Planners.Handlebars, 1.3.1-preview\"\n",
    "#r \"nuget: Microsoft.KernelMemory.SemanticKernelPlugin, 0.28.240212.1\""
   ]
  },
  {
   "cell_type": "code",
   "execution_count": 45,
   "metadata": {
    "dotnet_interactive": {
     "language": "csharp"
    },
    "polyglot_notebook": {
     "kernelName": "csharp"
    },
    "vscode": {
     "languageId": "polyglot-notebook"
    }
   },
   "outputs": [],
   "source": [
    "using Microsoft.SemanticKernel;\n",
    "using Microsoft.SemanticKernel.ChatCompletion;\n",
    "using Kernel = Microsoft.SemanticKernel.Kernel;\n",
    "\n",
    "var (useAzureOpenAI, model, azureEndpoint, apiKey, orgId) = Settings.LoadFromFile();\n",
    "var builder = Kernel.CreateBuilder();\n",
    "if(useAzureOpenAI)\n",
    "    builder.AddAzureOpenAIChatCompletion(model, azureEndpoint, apiKey);\n",
    "else\n",
    "    builder.AddOpenAIChatCompletion(model, apiKey);\n",
    "\n",
    "var kernel = builder.Build();"
   ]
  },
  {
   "cell_type": "markdown",
   "metadata": {},
   "source": [
    "## 👨‍💻 Let's load a AI Manager\n",
    "Here I setup System Description and assist system to behave as a manager in IT company"
   ]
  },
  {
   "cell_type": "code",
   "execution_count": 46,
   "metadata": {
    "dotnet_interactive": {
     "language": "csharp"
    },
    "polyglot_notebook": {
     "kernelName": "csharp"
    },
    "vscode": {
     "languageId": "polyglot-notebook"
    }
   },
   "outputs": [],
   "source": [
    "var systemDescription = @\"You are a Project Manager in IT company. You are responsible for the development of a new software product. \n",
    "                          You have a team of 5 developers, 2 testers and cloud solution architect. \";\n",
    "\n",
    "IChatCompletionService chatCompletion = kernel.Services.GetService(typeof(IChatCompletionService)) as IChatCompletionService;\n",
    "var promptTemplate = new ChatHistory(systemDescription);"
   ]
  },
  {
   "cell_type": "code",
   "execution_count": 47,
   "metadata": {
    "dotnet_interactive": {
     "language": "csharp"
    },
    "polyglot_notebook": {
     "kernelName": "csharp"
    },
    "vscode": {
     "languageId": "polyglot-notebook"
    }
   },
   "outputs": [],
   "source": [
    "promptTemplate.AddUserMessage(\"Hello\");\n",
    "var result = await chatCompletion.GetChatMessageContentAsync(promptTemplate);\n",
    "\n",
    "promptTemplate.AddAssistantMessage(result.Content);"
   ]
  },
  {
   "cell_type": "markdown",
   "metadata": {},
   "source": [
    "## 🔌 Load some plugins\n",
    "I want to add some plugins to kernel to execute specific actions\n"
   ]
  },
  {
   "cell_type": "code",
   "execution_count": 50,
   "metadata": {
    "dotnet_interactive": {
     "language": "csharp"
    },
    "polyglot_notebook": {
     "kernelName": "csharp"
    },
    "vscode": {
     "languageId": "polyglot-notebook"
    }
   },
   "outputs": [
    {
     "ename": "Error",
     "evalue": "System.ArgumentException: An item with the same key has already been added. Key: Manager\n   at System.Collections.Generic.Dictionary`2.TryInsert(TKey key, TValue value, InsertionBehavior behavior)\n   at System.Collections.Generic.Dictionary`2.Add(TKey key, TValue value)\n   at Microsoft.SemanticKernel.KernelPluginCollection.Add(KernelPlugin plugin)\n   at Microsoft.SemanticKernel.KernelExtensions.ImportPluginFromPromptDirectory(Kernel kernel, String pluginDirectory, String pluginName, IPromptTemplateFactory promptTemplateFactory)\n   at Submission#51.<<Initialize>>d__0.MoveNext()\n--- End of stack trace from previous location ---\n   at Microsoft.CodeAnalysis.Scripting.ScriptExecutionState.RunSubmissionsAsync[TResult](ImmutableArray`1 precedingExecutors, Func`2 currentExecutor, StrongBox`1 exceptionHolderOpt, Func`2 catchExceptionOpt, CancellationToken cancellationToken)",
     "output_type": "error",
     "traceback": [
      "System.ArgumentException: An item with the same key has already been added. Key: Manager\n",
      "   at System.Collections.Generic.Dictionary`2.TryInsert(TKey key, TValue value, InsertionBehavior behavior)\n",
      "   at System.Collections.Generic.Dictionary`2.Add(TKey key, TValue value)\n",
      "   at Microsoft.SemanticKernel.KernelPluginCollection.Add(KernelPlugin plugin)\n",
      "   at Microsoft.SemanticKernel.KernelExtensions.ImportPluginFromPromptDirectory(Kernel kernel, String pluginDirectory, String pluginName, IPromptTemplateFactory promptTemplateFactory)\n",
      "   at Submission#51.<<Initialize>>d__0.MoveNext()\n",
      "--- End of stack trace from previous location ---\n",
      "   at Microsoft.CodeAnalysis.Scripting.ScriptExecutionState.RunSubmissionsAsync[TResult](ImmutableArray`1 precedingExecutors, Func`2 currentExecutor, StrongBox`1 exceptionHolderOpt, Func`2 catchExceptionOpt, CancellationToken cancellationToken)"
     ]
    }
   ],
   "source": [
    "var pluginsDirectory = Path.Combine(Directory.GetCurrentDirectory(), \"plugins\");\n",
    "var plugin = kernel.ImportPluginFromPromptDirectory(Path.Combine(pluginsDirectory, \"Manager\"));\n",
    "\n",
    "plugin"
   ]
  }
 ],
 "metadata": {
  "language_info": {
   "name": "csharp"
  }
 },
 "nbformat": 4,
 "nbformat_minor": 2
}
